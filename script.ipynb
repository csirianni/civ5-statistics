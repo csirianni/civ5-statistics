{
 "cells": [
  {
   "cell_type": "code",
   "execution_count": 1,
   "metadata": {
    "colab": {
     "base_uri": "https://localhost:8080/",
     "height": 417
    },
    "executionInfo": {
     "elapsed": 117,
     "status": "ok",
     "timestamp": 1623851207322,
     "user": {
      "displayName": "Cedric Sirianni",
      "photoUrl": "https://lh3.googleusercontent.com/a-/AOh14GimPKVUZLbGkdQUTmeCKFG3A9gWUz9Ko-xXaxPkSA=s64",
      "userId": "10142916882577320011"
     },
     "user_tz": 240
    },
    "id": "AG_ZJluJEB9L",
    "outputId": "d1434ef3-35b8-4e8e-bf64-35cbedbb826d",
    "pycharm": {
     "name": "#%%\n"
    }
   },
   "outputs": [
    {
     "data": {
      "text/html": [
       "<div>\n",
       "<style scoped>\n",
       "    .dataframe tbody tr th:only-of-type {\n",
       "        vertical-align: middle;\n",
       "    }\n",
       "\n",
       "    .dataframe tbody tr th {\n",
       "        vertical-align: top;\n",
       "    }\n",
       "\n",
       "    .dataframe thead th {\n",
       "        text-align: right;\n",
       "    }\n",
       "</style>\n",
       "<table border=\"1\" class=\"dataframe\">\n",
       "  <thead>\n",
       "    <tr style=\"text-align: right;\">\n",
       "      <th></th>\n",
       "      <th>game</th>\n",
       "      <th>civilization</th>\n",
       "      <th>score</th>\n",
       "      <th>turns</th>\n",
       "      <th>won</th>\n",
       "      <th>mountain</th>\n",
       "      <th>river</th>\n",
       "      <th>ocean</th>\n",
       "      <th>hill</th>\n",
       "    </tr>\n",
       "  </thead>\n",
       "  <tbody>\n",
       "    <tr>\n",
       "      <th>0</th>\n",
       "      <td>2</td>\n",
       "      <td>shoshone</td>\n",
       "      <td>1573</td>\n",
       "      <td>186</td>\n",
       "      <td>1</td>\n",
       "      <td>0</td>\n",
       "      <td>1</td>\n",
       "      <td>0</td>\n",
       "      <td>1</td>\n",
       "    </tr>\n",
       "    <tr>\n",
       "      <th>1</th>\n",
       "      <td>3</td>\n",
       "      <td>aztec</td>\n",
       "      <td>1172</td>\n",
       "      <td>159</td>\n",
       "      <td>1</td>\n",
       "      <td>1</td>\n",
       "      <td>1</td>\n",
       "      <td>0</td>\n",
       "      <td>1</td>\n",
       "    </tr>\n",
       "    <tr>\n",
       "      <th>2</th>\n",
       "      <td>11</td>\n",
       "      <td>shoshone</td>\n",
       "      <td>1153</td>\n",
       "      <td>198</td>\n",
       "      <td>1</td>\n",
       "      <td>0</td>\n",
       "      <td>0</td>\n",
       "      <td>1</td>\n",
       "      <td>1</td>\n",
       "    </tr>\n",
       "    <tr>\n",
       "      <th>3</th>\n",
       "      <td>14</td>\n",
       "      <td>arabia</td>\n",
       "      <td>1729</td>\n",
       "      <td>186</td>\n",
       "      <td>1</td>\n",
       "      <td>0</td>\n",
       "      <td>0</td>\n",
       "      <td>0</td>\n",
       "      <td>1</td>\n",
       "    </tr>\n",
       "    <tr>\n",
       "      <th>4</th>\n",
       "      <td>28</td>\n",
       "      <td>shoshone</td>\n",
       "      <td>1385</td>\n",
       "      <td>172</td>\n",
       "      <td>1</td>\n",
       "      <td>0</td>\n",
       "      <td>0</td>\n",
       "      <td>1</td>\n",
       "      <td>1</td>\n",
       "    </tr>\n",
       "    <tr>\n",
       "      <th>...</th>\n",
       "      <td>...</td>\n",
       "      <td>...</td>\n",
       "      <td>...</td>\n",
       "      <td>...</td>\n",
       "      <td>...</td>\n",
       "      <td>...</td>\n",
       "      <td>...</td>\n",
       "      <td>...</td>\n",
       "      <td>...</td>\n",
       "    </tr>\n",
       "    <tr>\n",
       "      <th>67</th>\n",
       "      <td>404</td>\n",
       "      <td>greece</td>\n",
       "      <td>1424</td>\n",
       "      <td>176</td>\n",
       "      <td>0</td>\n",
       "      <td>0</td>\n",
       "      <td>1</td>\n",
       "      <td>0</td>\n",
       "      <td>1</td>\n",
       "    </tr>\n",
       "    <tr>\n",
       "      <th>68</th>\n",
       "      <td>425</td>\n",
       "      <td>greece</td>\n",
       "      <td>1185</td>\n",
       "      <td>172</td>\n",
       "      <td>0</td>\n",
       "      <td>1</td>\n",
       "      <td>0</td>\n",
       "      <td>0</td>\n",
       "      <td>1</td>\n",
       "    </tr>\n",
       "    <tr>\n",
       "      <th>69</th>\n",
       "      <td>427</td>\n",
       "      <td>mayan</td>\n",
       "      <td>422</td>\n",
       "      <td>99</td>\n",
       "      <td>0</td>\n",
       "      <td>0</td>\n",
       "      <td>0</td>\n",
       "      <td>1</td>\n",
       "      <td>1</td>\n",
       "    </tr>\n",
       "    <tr>\n",
       "      <th>70</th>\n",
       "      <td>458</td>\n",
       "      <td>spain</td>\n",
       "      <td>2006</td>\n",
       "      <td>161</td>\n",
       "      <td>1</td>\n",
       "      <td>0</td>\n",
       "      <td>0</td>\n",
       "      <td>1</td>\n",
       "      <td>1</td>\n",
       "    </tr>\n",
       "    <tr>\n",
       "      <th>71</th>\n",
       "      <td>465</td>\n",
       "      <td>russia</td>\n",
       "      <td>1407</td>\n",
       "      <td>137</td>\n",
       "      <td>0</td>\n",
       "      <td>0</td>\n",
       "      <td>1</td>\n",
       "      <td>0</td>\n",
       "      <td>1</td>\n",
       "    </tr>\n",
       "  </tbody>\n",
       "</table>\n",
       "<p>72 rows × 9 columns</p>\n",
       "</div>"
      ],
      "text/plain": [
       "    game civilization  score  turns  won  mountain  river  ocean  hill\n",
       "0      2     shoshone   1573    186    1         0      1      0     1\n",
       "1      3        aztec   1172    159    1         1      1      0     1\n",
       "2     11     shoshone   1153    198    1         0      0      1     1\n",
       "3     14       arabia   1729    186    1         0      0      0     1\n",
       "4     28     shoshone   1385    172    1         0      0      1     1\n",
       "..   ...          ...    ...    ...  ...       ...    ...    ...   ...\n",
       "67   404       greece   1424    176    0         0      1      0     1\n",
       "68   425       greece   1185    172    0         1      0      0     1\n",
       "69   427        mayan    422     99    0         0      0      1     1\n",
       "70   458        spain   2006    161    1         0      0      1     1\n",
       "71   465       russia   1407    137    0         0      1      0     1\n",
       "\n",
       "[72 rows x 9 columns]"
      ]
     },
     "execution_count": 1,
     "metadata": {},
     "output_type": "execute_result"
    }
   ],
   "source": [
    "import pandas as pd\n",
    "import numpy as np\n",
    "import matplotlib.pyplot as plt\n",
    "import seaborn as sns\n",
    "from scipy import stats\n",
    "from sklearn.linear_model import LinearRegression\n",
    "\n",
    "\n",
    "data = pd.read_excel(\"./Data-FilthyRobot.xlsx\")\n",
    "data"
   ]
  },
  {
   "cell_type": "code",
   "execution_count": 2,
   "metadata": {
    "colab": {
     "base_uri": "https://localhost:8080/"
    },
    "executionInfo": {
     "elapsed": 7,
     "status": "ok",
     "timestamp": 1623851207457,
     "user": {
      "displayName": "Cedric Sirianni",
      "photoUrl": "https://lh3.googleusercontent.com/a-/AOh14GimPKVUZLbGkdQUTmeCKFG3A9gWUz9Ko-xXaxPkSA=s64",
      "userId": "10142916882577320011"
     },
     "user_tz": 240
    },
    "id": "0R5twvWOEB9P",
    "outputId": "8101583b-2c4e-4e50-cc06-dfcc734ef73b",
    "pycharm": {
     "name": "#%%\n"
    }
   },
   "outputs": [
    {
     "name": "stdout",
     "output_type": "stream",
     "text": [
      "(72, 9)\n",
      "['game', 'civilization', 'score', 'turns', 'won', 'mountain', 'river', 'ocean', 'hill']\n"
     ]
    }
   ],
   "source": [
    "print(data.shape)\n",
    "print(list(data.columns))"
   ]
  },
  {
   "cell_type": "code",
   "execution_count": 3,
   "metadata": {
    "colab": {
     "base_uri": "https://localhost:8080/"
    },
    "executionInfo": {
     "elapsed": 116,
     "status": "ok",
     "timestamp": 1623851207569,
     "user": {
      "displayName": "Cedric Sirianni",
      "photoUrl": "https://lh3.googleusercontent.com/a-/AOh14GimPKVUZLbGkdQUTmeCKFG3A9gWUz9Ko-xXaxPkSA=s64",
      "userId": "10142916882577320011"
     },
     "user_tz": 240
    },
    "id": "AxsEuhHmEB9Q",
    "outputId": "d7ec4f5a-9f93-4c30-fbaf-27180bdb8885",
    "pycharm": {
     "name": "#%%\n"
    }
   },
   "outputs": [
    {
     "name": "stdout",
     "output_type": "stream",
     "text": [
      "game             int64\n",
      "civilization    object\n",
      "score            int64\n",
      "turns            int64\n",
      "won              int64\n",
      "mountain         int64\n",
      "river            int64\n",
      "ocean            int64\n",
      "hill             int64\n",
      "dtype: object\n",
      "game               int64\n",
      "civilization    category\n",
      "score              int32\n",
      "turns              int32\n",
      "won                 bool\n",
      "mountain            bool\n",
      "river               bool\n",
      "ocean               bool\n",
      "hill                bool\n",
      "dtype: object\n"
     ]
    }
   ],
   "source": [
    "# fix the data types of columns\n",
    "print(data.dtypes)\n",
    "data['civilization'] = data['civilization'].astype('category')\n",
    "data['score'] = data['score'].astype('int')\n",
    "data['turns'] = data['turns'].astype('int')\n",
    "data['won'] = data['won'].astype('bool')\n",
    "data['mountain'] = data['mountain'].astype('bool')\n",
    "data['river'] = data['river'].astype('bool')\n",
    "data['ocean'] = data['ocean'].astype('bool')\n",
    "data['hill'] = data['hill'].astype('bool')\n",
    "print(data.dtypes)"
   ]
  },
  {
   "cell_type": "code",
   "execution_count": 4,
   "metadata": {
    "colab": {
     "base_uri": "https://localhost:8080/"
    },
    "executionInfo": {
     "elapsed": 5,
     "status": "ok",
     "timestamp": 1623851207570,
     "user": {
      "displayName": "Cedric Sirianni",
      "photoUrl": "https://lh3.googleusercontent.com/a-/AOh14GimPKVUZLbGkdQUTmeCKFG3A9gWUz9Ko-xXaxPkSA=s64",
      "userId": "10142916882577320011"
     },
     "user_tz": 240
    },
    "id": "4Xd-jK2wEB9Q",
    "outputId": "555bbc03-e504-4508-cbaf-20dd3b905d15",
    "pycharm": {
     "name": "#%%\n"
    }
   },
   "outputs": [
    {
     "name": "stdout",
     "output_type": "stream",
     "text": [
      "greece      15\n",
      "russia      13\n",
      "aztec       11\n",
      "spain        8\n",
      "arabia       7\n",
      "shoshone     7\n",
      "china        5\n",
      "mayan        4\n",
      "huns         2\n",
      "Name: civilization, dtype: int64\n"
     ]
    }
   ],
   "source": [
    "print(data['civilization'].value_counts())"
   ]
  },
  {
   "cell_type": "code",
   "execution_count": 5,
   "metadata": {
    "colab": {
     "base_uri": "https://localhost:8080/",
     "height": 419
    },
    "executionInfo": {
     "elapsed": 123,
     "status": "ok",
     "timestamp": 1623851207690,
     "user": {
      "displayName": "Cedric Sirianni",
      "photoUrl": "https://lh3.googleusercontent.com/a-/AOh14GimPKVUZLbGkdQUTmeCKFG3A9gWUz9Ko-xXaxPkSA=s64",
      "userId": "10142916882577320011"
     },
     "user_tz": 240
    },
    "id": "SLdpiB3TEB9R",
    "outputId": "f7c8917e-8eb9-4d24-e962-962947518a58",
    "pycharm": {
     "name": "#%%\n"
    }
   },
   "outputs": [
    {
     "data": {
      "image/png": "[encoded data removed]",
      "text/plain": [
       "<Figure size 432x432 with 1 Axes>"
      ]
     },
     "metadata": {
      "needs_background": "light"
     },
     "output_type": "display_data"
    }
   ],
   "source": [
    "\n",
    "mountain_bar = data['mountain'].value_counts().plot(kind='bar', xlabel=\"Capital adjacent to a mountain?\", ylabel=\"Frequency\", title = \"Mountain Distribution\", figsize = (6,6), color='green')\n",
    "fig = mountain_bar.get_figure()\n",
    "# fig.savefig(\"../Media/Graphs/mountain_bar\")"
   ]
  },
  {
   "cell_type": "code",
   "execution_count": 6,
   "metadata": {
    "colab": {
     "base_uri": "https://localhost:8080/",
     "height": 419
    },
    "executionInfo": {
     "elapsed": 171,
     "status": "ok",
     "timestamp": 1623851207858,
     "user": {
      "displayName": "Cedric Sirianni",
      "photoUrl": "https://lh3.googleusercontent.com/a-/AOh14GimPKVUZLbGkdQUTmeCKFG3A9gWUz9Ko-xXaxPkSA=s64",
      "userId": "10142916882577320011"
     },
     "user_tz": 240
    },
    "id": "kshAM5MjEB9R",
    "outputId": "1997b9da-d5c3-4dbd-9d95-909355f3e74a",
    "pycharm": {
     "name": "#%%\n"
    }
   },
   "outputs": [
    {
     "data": {
      "image/png": "[encoded data removed]",
      "text/plain": [
       "<Figure size 432x432 with 1 Axes>"
      ]
     },
     "metadata": {
      "needs_background": "light"
     },
     "output_type": "display_data"
    }
   ],
   "source": [
    "# ascending=True used to have x-axis always be False -> True\n",
    "river_bar = data['river'].value_counts(ascending=True).plot(kind='bar', xlabel=\"Capital on a river?\", ylabel=\"Frequency\", title = \"River Distribution\", figsize = (6,6), color='green')\n",
    "fig = river_bar.get_figure()\n",
    "# fig.savefig(\"../Media/Graphs/river_bar\")"
   ]
  },
  {
   "cell_type": "code",
   "execution_count": 7,
   "metadata": {
    "colab": {
     "base_uri": "https://localhost:8080/",
     "height": 419
    },
    "executionInfo": {
     "elapsed": 250,
     "status": "ok",
     "timestamp": 1623851208105,
     "user": {
      "displayName": "Cedric Sirianni",
      "photoUrl": "https://lh3.googleusercontent.com/a-/AOh14GimPKVUZLbGkdQUTmeCKFG3A9gWUz9Ko-xXaxPkSA=s64",
      "userId": "10142916882577320011"
     },
     "user_tz": 240
    },
    "id": "kTP2S8a5EB9R",
    "outputId": "f1aa5456-69d5-42dc-961d-53de5e4bb45a",
    "pycharm": {
     "name": "#%%\n"
    }
   },
   "outputs": [
    {
     "data": {
      "image/png": "[encoded data removed]",
      "text/plain": [
       "<Figure size 432x432 with 1 Axes>"
      ]
     },
     "metadata": {
      "needs_background": "light"
     },
     "output_type": "display_data"
    }
   ],
   "source": [
    "ocean_bar = data['ocean'].value_counts().plot(kind='bar', xlabel=\"Capital on the ocean?\", ylabel=\"Frequency\", title = \"Ocean Distribution\", figsize = (6,6), color='green')\n",
    "fig = ocean_bar.get_figure()\n",
    "# fig.savefig(\"../Media/Graphs/ocean_bar\")"
   ]
  },
  {
   "cell_type": "code",
   "execution_count": 8,
   "metadata": {
    "colab": {
     "base_uri": "https://localhost:8080/",
     "height": 419
    },
    "executionInfo": {
     "elapsed": 158,
     "status": "ok",
     "timestamp": 1623851208260,
     "user": {
      "displayName": "Cedric Sirianni",
      "photoUrl": "https://lh3.googleusercontent.com/a-/AOh14GimPKVUZLbGkdQUTmeCKFG3A9gWUz9Ko-xXaxPkSA=s64",
      "userId": "10142916882577320011"
     },
     "user_tz": 240
    },
    "id": "jfNPWw2CEB9S",
    "outputId": "a199cf0c-e103-41a3-a39d-95d33c4822b4",
    "pycharm": {
     "name": "#%%\n"
    }
   },
   "outputs": [
    {
     "data": {
      "image/png": "[encoded data removed]",
      "text/plain": [
       "<Figure size 432x432 with 1 Axes>"
      ]
     },
     "metadata": {
      "needs_background": "light"
     },
     "output_type": "display_data"
    }
   ],
   "source": [
    "# ascending=True used to have x-axis always be False -> True\n",
    "hill_bar = data['hill'].value_counts(ascending=True).plot(kind='bar', xlabel=\"Capital on a hill?\", ylabel=\"Frequency\", title = \"Hill Distribution\", figsize = (6,6), color='green')\n",
    "fig = hill_bar.get_figure()\n",
    "# fig.savefig(\"../Media/Graphs/hill_bar\")"
   ]
  },
  {
   "cell_type": "code",
   "execution_count": 9,
   "metadata": {
    "colab": {
     "base_uri": "https://localhost:8080/",
     "height": 269
    },
    "executionInfo": {
     "elapsed": 340,
     "status": "ok",
     "timestamp": 1623851208595,
     "user": {
      "displayName": "Cedric Sirianni",
      "photoUrl": "https://lh3.googleusercontent.com/a-/AOh14GimPKVUZLbGkdQUTmeCKFG3A9gWUz9Ko-xXaxPkSA=s64",
      "userId": "10142916882577320011"
     },
     "user_tz": 240
    },
    "id": "mGVoIxc9EB9S",
    "outputId": "959f179c-e322-4fcb-ddb1-ec6721442dff",
    "pycharm": {
     "name": "#%%\n"
    }
   },
   "outputs": [
    {
     "data": {
      "image/png": "[encoded data removed]",
      "text/plain": [
       "<Figure size 432x288 with 1 Axes>"
      ]
     },
     "metadata": {
      "needs_background": "light"
     },
     "output_type": "display_data"
    }
   ],
   "source": [
    "X = data.turns.values.reshape(-1, 1)  # values converts it into a numpy array\n",
    "Y = data.score.values.reshape(-1, 1)  # -1 means that calculate the dimension of rows, but have 1 column\n",
    "linear_regressor = LinearRegression()  # create object for the class\n",
    "linear_regressor.fit(X, Y)  # perform linear regression\n",
    "Y_pred = linear_regressor.predict(X)  # make predictions\n",
    "\n",
    "plt.scatter(X, Y, color='green')\n",
    "plt.plot(X, Y_pred, color='red')\n",
    "plt.show()"
   ]
  },
  {
   "cell_type": "code",
   "execution_count": 10,
   "metadata": {
    "colab": {
     "base_uri": "https://localhost:8080/",
     "height": 295
    },
    "executionInfo": {
     "elapsed": 6,
     "status": "ok",
     "timestamp": 1623851208596,
     "user": {
      "displayName": "Cedric Sirianni",
      "photoUrl": "https://lh3.googleusercontent.com/a-/AOh14GimPKVUZLbGkdQUTmeCKFG3A9gWUz9Ko-xXaxPkSA=s64",
      "userId": "10142916882577320011"
     },
     "user_tz": 240
    },
    "id": "IcI1GnJFEB9T",
    "outputId": "708ea3fa-7623-470e-e54e-0a17ff76e8da",
    "pycharm": {
     "name": "#%%\n"
    }
   },
   "outputs": [
    {
     "data": {
      "image/png": "[encoded data removed]",
      "text/plain": [
       "<Figure size 432x288 with 1 Axes>"
      ]
     },
     "metadata": {
      "needs_background": "light"
     },
     "output_type": "display_data"
    }
   ],
   "source": [
    "X = data.mountain.values.reshape(-1, 1)  # values converts it into a numpy array\n",
    "Y = data.won.values.reshape(-1, 1)  # -1 means that calculate the dimension of rows, but have 1 column\n",
    "linear_regressor = LinearRegression()  # create object for the class\n",
    "linear_regressor.fit(X, Y)  # perform linear regression\n",
    "Y_pred = linear_regressor.predict(X)  # make predictions\n",
    "\n",
    "plt.scatter(X, Y, color='green')\n",
    "# plt.plot(X, Y_pred, color='red')\n",
    "plt.xlabel(\"Capital adjacent to a mountain?\")\n",
    "plt.ylabel(\"Won\")\n",
    "plt.title(\"Mountain vs. Won Distribution\")\n",
    "plt.xticks([0, 1], ['False', 'True'])\n",
    "plt.yticks([0, 1], ['False', 'True'])\n",
    "# plt.savefig(\"../Media/Graphs/mountain_vs_won\")\n",
    "plt.show()\n"
   ]
  },
  {
   "cell_type": "code",
   "execution_count": 11,
   "metadata": {
    "colab": {
     "base_uri": "https://localhost:8080/",
     "height": 295
    },
    "executionInfo": {
     "elapsed": 10,
     "status": "ok",
     "timestamp": 1623851208813,
     "user": {
      "displayName": "Cedric Sirianni",
      "photoUrl": "https://lh3.googleusercontent.com/a-/AOh14GimPKVUZLbGkdQUTmeCKFG3A9gWUz9Ko-xXaxPkSA=s64",
      "userId": "10142916882577320011"
     },
     "user_tz": 240
    },
    "id": "_S5EKiRVEB9T",
    "outputId": "dfa678a8-8324-49ca-d9bc-1f5eb12695da",
    "pycharm": {
     "name": "#%%\n"
    }
   },
   "outputs": [
    {
     "data": {
      "image/png": "[encoded data removed]",
      "text/plain": [
       "<Figure size 432x288 with 1 Axes>"
      ]
     },
     "metadata": {
      "needs_background": "light"
     },
     "output_type": "display_data"
    }
   ],
   "source": [
    "X = data.mountain.values.reshape(-1, 1)  # values converts it into a numpy array\n",
    "Y = data.won.values.reshape(-1, 1)  # -1 means that calculate the dimension of rows, but have 1 column\n",
    "linear_regressor = LinearRegression()  # create object for the class\n",
    "linear_regressor.fit(X, Y)  # perform linear regression\n",
    "Y_pred = linear_regressor.predict(X)  # make predictions\n",
    "\n",
    "plt.scatter(X, Y, color='green')\n",
    "plt.plot(X, Y_pred, color='red', label=\"Line of Best Fit\")\n",
    "plt.xlabel(\"Capital adjacent to a mountain?\")\n",
    "plt.ylabel(\"Won\")\n",
    "plt.legend()\n",
    "plt.title(\"Mountain vs. Won Distribution\")\n",
    "plt.xticks([0, 1], ['False', 'True'])\n",
    "plt.yticks([0, 1], ['False', 'True'])\n",
    "# plt.savefig(\"../Media/Graphs/mountain_vs_won_linear_regression\")\n",
    "plt.show()"
   ]
  },
  {
   "cell_type": "code",
   "execution_count": 12,
   "metadata": {
    "colab": {
     "base_uri": "https://localhost:8080/"
    },
    "executionInfo": {
     "elapsed": 10,
     "status": "ok",
     "timestamp": 1623851208814,
     "user": {
      "displayName": "Cedric Sirianni",
      "photoUrl": "https://lh3.googleusercontent.com/a-/AOh14GimPKVUZLbGkdQUTmeCKFG3A9gWUz9Ko-xXaxPkSA=s64",
      "userId": "10142916882577320011"
     },
     "user_tz": 240
    },
    "id": "sY-1AvYXEB9U",
    "outputId": "8a7df0f3-9006-4fcf-e958-726e671663c9",
    "pycharm": {
     "name": "#%%\n"
    }
   },
   "outputs": [
    {
     "name": "stdout",
     "output_type": "stream",
     "text": [
      "0.6111111111111112\n"
     ]
    }
   ],
   "source": [
    "# win rate %\n",
    "print(data['won'].mean())"
   ]
  },
  {
   "cell_type": "code",
   "execution_count": 13,
   "metadata": {
    "executionInfo": {
     "elapsed": 8,
     "status": "ok",
     "timestamp": 1623851208814,
     "user": {
      "displayName": "Cedric Sirianni",
      "photoUrl": "https://lh3.googleusercontent.com/a-/AOh14GimPKVUZLbGkdQUTmeCKFG3A9gWUz9Ko-xXaxPkSA=s64",
      "userId": "10142916882577320011"
     },
     "user_tz": 240
    },
    "id": "Y0yAhj38EB9U",
    "pycharm": {
     "name": "#%%\n"
    }
   },
   "outputs": [],
   "source": [
    "# pd.crosstab(data.civilization, data.won).plot(kind='bar')\n",
    "# plt.show()"
   ]
  },
  {
   "cell_type": "code",
   "execution_count": 14,
   "metadata": {
    "colab": {
     "base_uri": "https://localhost:8080/"
    },
    "executionInfo": {
     "elapsed": 8,
     "status": "ok",
     "timestamp": 1623851208815,
     "user": {
      "displayName": "Cedric Sirianni",
      "photoUrl": "https://lh3.googleusercontent.com/a-/AOh14GimPKVUZLbGkdQUTmeCKFG3A9gWUz9Ko-xXaxPkSA=s64",
      "userId": "10142916882577320011"
     },
     "user_tz": 240
    },
    "id": "GEmWW73OEB9U",
    "outputId": "f079896b-6029-4913-cd6d-0419b9c19751",
    "pycharm": {
     "name": "#%%\n"
    }
   },
   "outputs": [
    {
     "name": "stdout",
     "output_type": "stream",
     "text": [
      "civilization\n",
      "arabia      0.714286\n",
      "aztec       0.818182\n",
      "china       0.800000\n",
      "greece      0.533333\n",
      "huns        0.500000\n",
      "mayan       0.500000\n",
      "russia      0.538462\n",
      "shoshone    0.714286\n",
      "spain       0.375000\n",
      "Name: won, dtype: float64\n"
     ]
    }
   ],
   "source": [
    "# exploring the groupby method\n",
    "# by_civilization = data.groupby('civilization')\n",
    "# for civ in by_civilization:\n",
    "#     print(civ)\n",
    "print(data.groupby('civilization')['won'].mean())"
   ]
  },
  {
   "cell_type": "code",
   "execution_count": 15,
   "metadata": {
    "colab": {
     "base_uri": "https://localhost:8080/",
     "height": 525
    },
    "executionInfo": {
     "elapsed": 645,
     "status": "ok",
     "timestamp": 1623851209454,
     "user": {
      "displayName": "Cedric Sirianni",
      "photoUrl": "https://lh3.googleusercontent.com/a-/AOh14GimPKVUZLbGkdQUTmeCKFG3A9gWUz9Ko-xXaxPkSA=s64",
      "userId": "10142916882577320011"
     },
     "user_tz": 240
    },
    "id": "KUIonR1eEB9U",
    "outputId": "275c6fb9-6018-4367-8e42-678d8f8521c3",
    "pycharm": {
     "name": "#%%\n"
    }
   },
   "outputs": [
    {
     "data": {
      "image/png": "[encoded data removed]",
      "text/plain": [
       "<Figure size 1080x576 with 1 Axes>"
      ]
     },
     "metadata": {
      "needs_background": "light"
     },
     "output_type": "display_data"
    }
   ],
   "source": [
    "plt.figure(figsize=(15, 8))\n",
    "plt.bar(data.civilization.unique(), data.groupby('civilization')['won'].mean(), color='green')\n",
    "plt.axhline(y=.61, linewidth=1, color='black', label='Average Win Rate')\n",
    "plt.legend(fontsize = 18)\n",
    "plt.title('Win Rate of Civilizations', fontsize = 18)\n",
    "plt.xlabel('Civilization', fontsize = 18)\n",
    "plt.ylabel('Win Rate', fontsize = 18)\n",
    "# plt.savefig(\"../Media/Graphs/civ_win_rates\")\n",
    "plt.show()"
   ]
  },
  {
   "cell_type": "code",
   "execution_count": 16,
   "metadata": {
    "colab": {
     "base_uri": "https://localhost:8080/"
    },
    "executionInfo": {
     "elapsed": 9,
     "status": "ok",
     "timestamp": 1623851209455,
     "user": {
      "displayName": "Cedric Sirianni",
      "photoUrl": "https://lh3.googleusercontent.com/a-/AOh14GimPKVUZLbGkdQUTmeCKFG3A9gWUz9Ko-xXaxPkSA=s64",
      "userId": "10142916882577320011"
     },
     "user_tz": 240
    },
    "id": "IVEmnmsLEB9V",
    "outputId": "6217785b-4e00-4e6c-bab9-e9b634f7a66a",
    "pycharm": {
     "name": "#%%\n"
    }
   },
   "outputs": [
    {
     "name": "stdout",
     "output_type": "stream",
     "text": [
      "    game civilization  score  turns    won  mountain  river  ocean  hill\n",
      "0      2     shoshone   1573    186   True     False   True  False  True\n",
      "1      3        aztec   1172    159   True      True   True  False  True\n",
      "2     11     shoshone   1153    198   True     False  False   True  True\n",
      "3     14       arabia   1729    186   True     False  False  False  True\n",
      "4     28     shoshone   1385    172   True     False  False   True  True\n",
      "..   ...          ...    ...    ...    ...       ...    ...    ...   ...\n",
      "65   395       greece    925    107  False     False   True  False  True\n",
      "67   404       greece   1424    176  False     False   True  False  True\n",
      "68   425       greece   1185    172  False      True  False  False  True\n",
      "69   427        mayan    422     99  False     False  False   True  True\n",
      "71   465       russia   1407    137  False     False   True  False  True\n",
      "\n",
      "[64 rows x 9 columns]\n",
      "0.640625\n",
      "    game civilization  score  turns    won  mountain  river  ocean   hill\n",
      "30   154        spain    701    126  False     False   True   True   True\n",
      "31   156        spain   1487    197  False     False  False   True  False\n",
      "46   236        spain   1477    178  False     False   True   True   True\n",
      "49   270        spain   1395    176  False      True   True  False  False\n",
      "54   293        spain   2189    188   True     False   True   True   True\n",
      "58   317        spain   1336    100   True     False  False  False   True\n",
      "66   403        spain   1060    156  False     False   True   True  False\n",
      "70   458        spain   2006    161   True     False  False   True   True\n",
      "0.375\n"
     ]
    },
    {
     "data": {
      "text/plain": [
       "Ttest_1sampResult(statistic=-1.451651358510943, pvalue=0.18989656504038468)"
      ]
     },
     "execution_count": 16,
     "metadata": {},
     "output_type": "execute_result"
    }
   ],
   "source": [
    "no_spain = data.loc[data['civilization'] != 'spain']\n",
    "print(no_spain)\n",
    "print(no_spain['won'].mean())\n",
    "\n",
    "spain = data.loc[data['civilization'] == 'spain']\n",
    "print(spain)\n",
    "print(spain['won'].mean())\n",
    "\n",
    "stats.ttest_1samp(spain['won'], no_spain['won'].mean())"
   ]
  },
  {
   "cell_type": "code",
   "execution_count": 17,
   "metadata": {
    "colab": {
     "base_uri": "https://localhost:8080/",
     "height": 1000
    },
    "executionInfo": {
     "elapsed": 553,
     "status": "ok",
     "timestamp": 1623851210002,
     "user": {
      "displayName": "Cedric Sirianni",
      "photoUrl": "https://lh3.googleusercontent.com/a-/AOh14GimPKVUZLbGkdQUTmeCKFG3A9gWUz9Ko-xXaxPkSA=s64",
      "userId": "10142916882577320011"
     },
     "user_tz": 240
    },
    "id": "FTW2uwPiEB9V",
    "outputId": "bcf54177-007d-42cb-870c-26cab2f349d9",
    "pycharm": {
     "name": "#%%\n"
    }
   },
   "outputs": [
    {
     "data": {
      "text/plain": [
       "<AxesSubplot:xlabel='hill'>"
      ]
     },
     "execution_count": 17,
     "metadata": {},
     "output_type": "execute_result"
    },
    {
     "data": {
      "image/png": "[encoded data removed]",
      "text/plain": [
       "<Figure size 432x288 with 1 Axes>"
      ]
     },
     "metadata": {
      "needs_background": "light"
     },
     "output_type": "display_data"
    },
    {
     "data": {
      "image/png": "[encoded data removed]",
      "text/plain": [
       "<Figure size 432x288 with 1 Axes>"
      ]
     },
     "metadata": {
      "needs_background": "light"
     },
     "output_type": "display_data"
    },
    {
     "data": {
      "image/png": "[encoded data removed]",
      "text/plain": [
       "<Figure size 432x288 with 1 Axes>"
      ]
     },
     "metadata": {
      "needs_background": "light"
     },
     "output_type": "display_data"
    },
    {
     "data": {
      "image/png": "[encoded data removed]",
      "text/plain": [
       "<Figure size 432x288 with 1 Axes>"
      ]
     },
     "metadata": {
      "needs_background": "light"
     },
     "output_type": "display_data"
    }
   ],
   "source": [
    "pd.crosstab(data.mountain, data.won).plot(kind='bar')\n",
    "pd.crosstab(data.river, data.won).plot(kind='bar')\n",
    "pd.crosstab(data.ocean, data.won).plot(kind='bar')\n",
    "pd.crosstab(data.hill, data.won).plot(kind='bar')"
   ]
  },
  {
   "cell_type": "code",
   "execution_count": 18,
   "metadata": {
    "executionInfo": {
     "elapsed": 9,
     "status": "ok",
     "timestamp": 1623851210003,
     "user": {
      "displayName": "Cedric Sirianni",
      "photoUrl": "https://lh3.googleusercontent.com/a-/AOh14GimPKVUZLbGkdQUTmeCKFG3A9gWUz9Ko-xXaxPkSA=s64",
      "userId": "10142916882577320011"
     },
     "user_tz": 240
    },
    "id": "Pd9jXGqCEB9W",
    "pycharm": {
     "name": "#%%\n"
    }
   },
   "outputs": [],
   "source": [
    "import statsmodels.api as sm\n",
    "X = data[['mountain', 'hill', 'ocean', 'river']]\n",
    "y = data['won']\n",
    "\n",
    "# log_reg = sm.Logit(y, sm.add_constant(X)).fit()\n",
    "# print(log_reg.summary())\n",
    "# print(log_reg.params)\n",
    "# np.exp(log_reg.params)"
   ]
  },
  {
   "cell_type": "code",
   "execution_count": 19,
   "metadata": {
    "executionInfo": {
     "elapsed": 139,
     "status": "aborted",
     "timestamp": 1623851210136,
     "user": {
      "displayName": "Cedric Sirianni",
      "photoUrl": "https://lh3.googleusercontent.com/a-/AOh14GimPKVUZLbGkdQUTmeCKFG3A9gWUz9Ko-xXaxPkSA=s64",
      "userId": "10142916882577320011"
     },
     "user_tz": 240
    },
    "id": "giRQk1yjEB9W",
    "pycharm": {
     "name": "#%%\n"
    }
   },
   "outputs": [
    {
     "name": "stdout",
     "output_type": "stream",
     "text": [
      "Optimization terminated successfully.\n",
      "         Current function value: 0.681349\n",
      "         Iterations 4\n",
      "                           Logit Regression Results                           \n",
      "==============================================================================\n",
      "Dep. Variable:                    won   No. Observations:                   72\n",
      "Model:                          Logit   Df Residuals:                       71\n",
      "Method:                           MLE   Df Model:                            0\n",
      "Date:                Tue, 04 Jan 2022   Pseudo R-squ.:                -0.01960\n",
      "Time:                        20:50:28   Log-Likelihood:                -49.057\n",
      "converged:                       True   LL-Null:                       -48.114\n",
      "Covariance Type:            nonrobust   LLR p-value:                       nan\n",
      "==============================================================================\n",
      "                 coef    std err          z      P>|z|      [0.025      0.975]\n",
      "------------------------------------------------------------------------------\n",
      "mountain       0.6931      0.548      1.266      0.206      -0.380       1.767\n",
      "==============================================================================\n",
      "mountain    2.0\n",
      "dtype: float64\n"
     ]
    }
   ],
   "source": [
    "log_reg = sm.Logit(data['won'], data['mountain']).fit()\n",
    "print(log_reg.summary())\n",
    "print(np.exp(log_reg.params))"
   ]
  },
  {
   "cell_type": "code",
   "execution_count": 20,
   "metadata": {
    "executionInfo": {
     "elapsed": 140,
     "status": "aborted",
     "timestamp": 1623851210137,
     "user": {
      "displayName": "Cedric Sirianni",
      "photoUrl": "https://lh3.googleusercontent.com/a-/AOh14GimPKVUZLbGkdQUTmeCKFG3A9gWUz9Ko-xXaxPkSA=s64",
      "userId": "10142916882577320011"
     },
     "user_tz": 240
    },
    "id": "F7TyJjO1EB9X",
    "pycharm": {
     "name": "#%%\n"
    }
   },
   "outputs": [
    {
     "name": "stdout",
     "output_type": "stream",
     "text": [
      "Optimization terminated successfully.\n",
      "         Current function value: 0.660111\n",
      "         Iterations 4\n",
      "                           Logit Regression Results                           \n",
      "==============================================================================\n",
      "Dep. Variable:                    won   No. Observations:                   72\n",
      "Model:                          Logit   Df Residuals:                       71\n",
      "Method:                           MLE   Df Model:                            0\n",
      "Date:                Tue, 04 Jan 2022   Pseudo R-squ.:                 0.01218\n",
      "Time:                        20:50:28   Log-Likelihood:                -47.528\n",
      "converged:                       True   LL-Null:                       -48.114\n",
      "Covariance Type:            nonrobust   LLR p-value:                       nan\n",
      "==============================================================================\n",
      "                 coef    std err          z      P>|z|      [0.025      0.975]\n",
      "------------------------------------------------------------------------------\n",
      "hill           0.6931      0.327      2.118      0.034       0.052       1.335\n",
      "==============================================================================\n",
      "hill    2.0\n",
      "dtype: float64\n"
     ]
    }
   ],
   "source": [
    "log_reg_hill = sm.Logit(data['won'], data['hill']).fit()\n",
    "print(log_reg_hill.summary())\n",
    "print(np.exp(log_reg_hill.params))"
   ]
  },
  {
   "cell_type": "code",
   "execution_count": 21,
   "metadata": {
    "executionInfo": {
     "elapsed": 143,
     "status": "aborted",
     "timestamp": 1623851210140,
     "user": {
      "displayName": "Cedric Sirianni",
      "photoUrl": "https://lh3.googleusercontent.com/a-/AOh14GimPKVUZLbGkdQUTmeCKFG3A9gWUz9Ko-xXaxPkSA=s64",
      "userId": "10142916882577320011"
     },
     "user_tz": 240
    },
    "id": "F1cnGMeqEB9X",
    "pycharm": {
     "name": "#%%\n"
    }
   },
   "outputs": [
    {
     "name": "stdout",
     "output_type": "stream",
     "text": [
      "Optimization terminated successfully.\n",
      "         Current function value: 0.679164\n",
      "         Iterations 4\n",
      "                           Logit Regression Results                           \n",
      "==============================================================================\n",
      "Dep. Variable:                    won   No. Observations:                   72\n",
      "Model:                          Logit   Df Residuals:                       71\n",
      "Method:                           MLE   Df Model:                            0\n",
      "Date:                Tue, 04 Jan 2022   Pseudo R-squ.:                -0.01633\n",
      "Time:                        20:50:28   Log-Likelihood:                -48.900\n",
      "converged:                       True   LL-Null:                       -48.114\n",
      "Covariance Type:            nonrobust   LLR p-value:                       nan\n",
      "==============================================================================\n",
      "                 coef    std err          z      P>|z|      [0.025      0.975]\n",
      "------------------------------------------------------------------------------\n",
      "river          0.4055      0.289      1.405      0.160      -0.160       0.971\n",
      "==============================================================================\n",
      "river    1.5\n",
      "dtype: float64\n"
     ]
    }
   ],
   "source": [
    "log_reg_river = sm.Logit(data['won'], data['river']).fit()\n",
    "print(log_reg_river.summary())\n",
    "print(np.exp(log_reg_river.params))"
   ]
  },
  {
   "cell_type": "code",
   "execution_count": 22,
   "metadata": {
    "colab": {
     "base_uri": "https://localhost:8080/",
     "height": 387
    },
    "executionInfo": {
     "elapsed": 598,
     "status": "error",
     "timestamp": 1623851238723,
     "user": {
      "displayName": "Cedric Sirianni",
      "photoUrl": "https://lh3.googleusercontent.com/a-/AOh14GimPKVUZLbGkdQUTmeCKFG3A9gWUz9Ko-xXaxPkSA=s64",
      "userId": "10142916882577320011"
     },
     "user_tz": 240
    },
    "id": "dM59l5CqEB9Y",
    "outputId": "0f2b8c81-d442-4478-b612-14b6b39ff27c",
    "pycharm": {
     "name": "#%%\n"
    }
   },
   "outputs": [
    {
     "name": "stdout",
     "output_type": "stream",
     "text": [
      "Optimization terminated successfully.\n",
      "         Current function value: 0.691988\n",
      "         Iterations 3\n",
      "                           Logit Regression Results                           \n",
      "==============================================================================\n",
      "Dep. Variable:                    won   No. Observations:                   72\n",
      "Model:                          Logit   Df Residuals:                       71\n",
      "Method:                           MLE   Df Model:                            0\n",
      "Date:                Tue, 04 Jan 2022   Pseudo R-squ.:                -0.03553\n",
      "Time:                        20:50:28   Log-Likelihood:                -49.823\n",
      "converged:                       True   LL-Null:                       -48.114\n",
      "Covariance Type:            nonrobust   LLR p-value:                       nan\n",
      "==============================================================================\n",
      "                 coef    std err          z      P>|z|      [0.025      0.975]\n",
      "------------------------------------------------------------------------------\n",
      "ocean          0.1671      0.410      0.408      0.683      -0.636       0.970\n",
      "==============================================================================\n",
      "ocean    1.181818\n",
      "dtype: float64\n"
     ]
    }
   ],
   "source": [
    "log_reg_ocean = sm.Logit(data['won'], data['ocean']).fit()\n",
    "print(log_reg_ocean.summary())\n",
    "print(np.exp(log_reg_ocean.params))"
   ]
  },
  {
   "cell_type": "code",
   "execution_count": 23,
   "metadata": {
    "colab": {
     "base_uri": "https://localhost:8080/",
     "height": 584
    },
    "executionInfo": {
     "elapsed": 252,
     "status": "ok",
     "timestamp": 1623851232279,
     "user": {
      "displayName": "Cedric Sirianni",
      "photoUrl": "https://lh3.googleusercontent.com/a-/AOh14GimPKVUZLbGkdQUTmeCKFG3A9gWUz9Ko-xXaxPkSA=s64",
      "userId": "10142916882577320011"
     },
     "user_tz": 240
    },
    "id": "b6CiSIpMEB9Y",
    "outputId": "fccbfc74-c66f-4d64-fcf9-cc6e5fc51213",
    "pycharm": {
     "name": "#%%\n"
    }
   },
   "outputs": [
    {
     "name": "stdout",
     "output_type": "stream",
     "text": [
      "Optimization terminated successfully.\n",
      "         Current function value: 0.611936\n",
      "         Iterations 4\n",
      "                           Logit Regression Results                           \n",
      "==============================================================================\n",
      "Dep. Variable:                    won   No. Observations:                   72\n",
      "Model:                          Logit   Df Residuals:                       71\n",
      "Method:                           MLE   Df Model:                            0\n",
      "Date:                Tue, 04 Jan 2022   Pseudo R-squ.:                 0.08427\n",
      "Time:                        20:50:28   Log-Likelihood:                -44.059\n",
      "converged:                       True   LL-Null:                       -48.114\n",
      "Covariance Type:            nonrobust   LLR p-value:                       nan\n",
      "==============================================================================\n",
      "                 coef    std err          z      P>|z|      [0.025      0.975]\n",
      "------------------------------------------------------------------------------\n",
      "score          0.0006      0.000      3.198      0.001       0.000       0.001\n",
      "==============================================================================\n",
      "score    1.000571\n",
      "dtype: float64\n"
     ]
    },
    {
     "data": {
      "image/png": "[encoded data removed]",
      "text/plain": [
       "<Figure size 432x288 with 1 Axes>"
      ]
     },
     "metadata": {
      "needs_background": "light"
     },
     "output_type": "display_data"
    }
   ],
   "source": [
    "log_reg_turns = sm.Logit(data['won'], data['score']).fit()\n",
    "print(log_reg_turns.summary())\n",
    "print(np.exp(log_reg_turns.params))\n",
    "plt.scatter(data['score'], data['won'])\n",
    "\n",
    "plt.show()"
   ]
  },
  {
   "cell_type": "code",
   "execution_count": 24,
   "metadata": {
    "colab": {
     "base_uri": "https://localhost:8080/",
     "height": 265
    },
    "executionInfo": {
     "elapsed": 327,
     "status": "ok",
     "timestamp": 1623851227858,
     "user": {
      "displayName": "Cedric Sirianni",
      "photoUrl": "https://lh3.googleusercontent.com/a-/AOh14GimPKVUZLbGkdQUTmeCKFG3A9gWUz9Ko-xXaxPkSA=s64",
      "userId": "10142916882577320011"
     },
     "user_tz": 240
    },
    "id": "MFEi9TCSEB9Y",
    "outputId": "f56c29d6-c393-452e-cf50-84d64cd9df2b",
    "pycharm": {
     "name": "#%%\n"
    }
   },
   "outputs": [
    {
     "name": "stderr",
     "output_type": "stream",
     "text": [
      "C:\\Users\\Cedric\\AppData\\Local\\Programs\\Python\\Python39\\lib\\site-packages\\sklearn\\utils\\validation.py:63: DataConversionWarning: A column-vector y was passed when a 1d array was expected. Please change the shape of y to (n_samples, ), for example using ravel().\n",
      "  return f(*args, **kwargs)\n"
     ]
    },
    {
     "data": {
      "image/png": "[encoded data removed]",
      "text/plain": [
       "<Figure size 288x216 with 1 Axes>"
      ]
     },
     "metadata": {
      "needs_background": "light"
     },
     "output_type": "display_data"
    }
   ],
   "source": [
    "from sklearn.linear_model import LogisticRegression\n",
    "from scipy.special import expit\n",
    "X = data['score'].values.reshape(-1,1)\n",
    "Y = data['won'].values.reshape(-1,1)\n",
    "clf = LogisticRegression()\n",
    "clf.fit(X, Y)\n",
    "plt.figure(1, figsize=(4, 3))\n",
    "plt.clf()\n",
    "plt.scatter(X, Y, color='black', zorder=20)\n",
    "X_test = np.linspace(0, 3500, 1000)\n",
    "\n",
    "loss = expit(X_test * clf.coef_ + clf.intercept_).ravel()\n",
    "plt.plot(X_test, loss, color='red', linewidth=3)\n",
    "plt.show()"
   ]
  },
  {
   "cell_type": "code",
   "execution_count": 25,
   "metadata": {
    "colab": {
     "base_uri": "https://localhost:8080/",
     "height": 229
    },
    "executionInfo": {
     "elapsed": 130,
     "status": "error",
     "timestamp": 1623851223462,
     "user": {
      "displayName": "Cedric Sirianni",
      "photoUrl": "https://lh3.googleusercontent.com/a-/AOh14GimPKVUZLbGkdQUTmeCKFG3A9gWUz9Ko-xXaxPkSA=s64",
      "userId": "10142916882577320011"
     },
     "user_tz": 240
    },
    "id": "a6ncXA57EB9Y",
    "outputId": "4509ad31-d3ef-43b7-f7cf-9043459fb5d3",
    "pycharm": {
     "name": "#%%\n"
    }
   },
   "outputs": [
    {
     "name": "stderr",
     "output_type": "stream",
     "text": [
      "C:\\Users\\Cedric\\AppData\\Local\\Programs\\Python\\Python39\\lib\\site-packages\\sklearn\\utils\\validation.py:63: DataConversionWarning: A column-vector y was passed when a 1d array was expected. Please change the shape of y to (n_samples, ), for example using ravel().\n",
      "  return f(*args, **kwargs)\n"
     ]
    },
    {
     "data": {
      "text/plain": [
       "Text(0.5, 1.0, 'Score vs. Mountain Distribution')"
      ]
     },
     "execution_count": 25,
     "metadata": {},
     "output_type": "execute_result"
    },
    {
     "data": {
      "image/png": "[encoded data removed]",
      "text/plain": [
       "<Figure size 432x288 with 1 Axes>"
      ]
     },
     "metadata": {
      "needs_background": "light"
     },
     "output_type": "display_data"
    }
   ],
   "source": [
    "X = data['score'].values.reshape(-1,1)\n",
    "Y = data['won'].values.reshape(-1,1)\n",
    "\n",
    "LogR = LogisticRegression()\n",
    "LogR.fit(X, Y)\n",
    "# plt.scatter(X,Y)\n",
    "sns.regplot(x='score', y='won', data=data, logistic=True, color='green', ci=None)\n",
    "plt.ylim(-.1,1.1)\n",
    "plt.yticks([0,1])\n",
    "plt.title(\"Score vs. Mountain Distribution\")\n",
    "# plt.savefig(\"../Media/Graphs/score_vs_mountain_logistic\")"
   ]
  },
  {
   "cell_type": "code",
   "execution_count": 26,
   "metadata": {
    "colab": {
     "base_uri": "https://localhost:8080/",
     "height": 312
    },
    "executionInfo": {
     "elapsed": 440,
     "status": "ok",
     "timestamp": 1623851220623,
     "user": {
      "displayName": "Cedric Sirianni",
      "photoUrl": "https://lh3.googleusercontent.com/a-/AOh14GimPKVUZLbGkdQUTmeCKFG3A9gWUz9Ko-xXaxPkSA=s64",
      "userId": "10142916882577320011"
     },
     "user_tz": 240
    },
    "id": "EXmhlCT0EB9Z",
    "outputId": "654ed1d3-6d13-475a-80c9-4a1aac7500d7",
    "pycharm": {
     "name": "#%%\n"
    }
   },
   "outputs": [
    {
     "data": {
      "text/plain": [
       "Text(0.5, 1.0, 'Score vs. Mountain Distribution')"
      ]
     },
     "execution_count": 26,
     "metadata": {},
     "output_type": "execute_result"
    },
    {
     "data": {
      "image/png": "[encoded data removed]",
      "text/plain": [
       "<Figure size 432x288 with 1 Axes>"
      ]
     },
     "metadata": {
      "needs_background": "light"
     },
     "output_type": "display_data"
    }
   ],
   "source": [
    "sns.regplot(x='score', y='won', data=data, color='green', ci=None)\n",
    "plt.ylim(-.1,1.1)\n",
    "plt.yticks([0,1])\n",
    "plt.title(\"Score vs. Mountain Distribution\")\n",
    "# plt.savefig(\"../Media/Graphs/score_vs_mountain_linear\")"
   ]
  },
  {
   "cell_type": "code",
   "execution_count": 27,
   "metadata": {
    "colab": {
     "base_uri": "https://localhost:8080/",
     "height": 225
    },
    "executionInfo": {
     "elapsed": 452,
     "status": "ok",
     "timestamp": 1623851216722,
     "user": {
      "displayName": "Cedric Sirianni",
      "photoUrl": "https://lh3.googleusercontent.com/a-/AOh14GimPKVUZLbGkdQUTmeCKFG3A9gWUz9Ko-xXaxPkSA=s64",
      "userId": "10142916882577320011"
     },
     "user_tz": 240
    },
    "id": "NXt-qzUJEB9Z",
    "outputId": "999257fc-bff2-40b5-bb5e-6280aad80548",
    "pycharm": {
     "name": "#%%\n"
    }
   },
   "outputs": [
    {
     "data": {
      "image/png": "[encoded data removed]",
      "text/plain": [
       "<Figure size 288x216 with 1 Axes>"
      ]
     },
     "metadata": {
      "needs_background": "light"
     },
     "output_type": "display_data"
    }
   ],
   "source": [
    "# https://scikit-learn.org/stable/auto_examples/linear_model/plot_logistic.html\n",
    "import numpy as np\n",
    "import matplotlib.pyplot as plt\n",
    "\n",
    "from sklearn import linear_model\n",
    "from scipy.special import expit\n",
    "\n",
    "# General a toy dataset:s it's just a straight line with some Gaussian noise:\n",
    "xmin, xmax = -5, 5\n",
    "n_samples = 100\n",
    "np.random.seed(0)\n",
    "X = np.random.normal(size=n_samples)\n",
    "y = (X > 0).astype(float)\n",
    "X[X > 0] *= 4\n",
    "X += .3 * np.random.normal(size=n_samples)\n",
    "\n",
    "X = X[:, np.newaxis]\n",
    "\n",
    "# Fit the classifier\n",
    "clf = linear_model.LogisticRegression(C=1e5)\n",
    "clf.fit(X, y)\n",
    "\n",
    "# and plot the result\n",
    "plt.figure(1, figsize=(4, 3))\n",
    "plt.clf()\n",
    "plt.scatter(X.ravel(), y, color='black', zorder=20)\n",
    "X_test = np.linspace(-5, 10, 300)\n",
    "\n",
    "loss = expit(X_test * clf.coef_ + clf.intercept_).ravel()\n",
    "plt.plot(X_test, loss, color='red', linewidth=3)\n",
    "\n",
    "ols = linear_model.LinearRegression()\n",
    "ols.fit(X, y)\n",
    "plt.plot(X_test, ols.coef_ * X_test + ols.intercept_, linewidth=1)\n",
    "plt.axhline(.5, color='.5')\n",
    "\n",
    "plt.ylabel('y')\n",
    "plt.xlabel('X')\n",
    "plt.xticks(range(-5, 10))\n",
    "plt.yticks([0, 0.5, 1])\n",
    "plt.ylim(-.25, 1.25)\n",
    "plt.xlim(-4, 10)\n",
    "plt.legend(('Logistic Regression Model', 'Linear Regression Model'),\n",
    "           loc=\"lower right\", fontsize='small')\n",
    "plt.tight_layout()\n",
    "plt.show()\n"
   ]
  }
 ],
 "metadata": {
  "colab": {
   "name": "script.ipynb",
   "provenance": []
  },
  "kernelspec": {
   "display_name": "Python 3",
   "language": "python",
   "name": "python3"
  },
  "language_info": {
   "codemirror_mode": {
    "name": "ipython",
    "version": 3
   },
   "file_extension": ".py",
   "mimetype": "text/x-python",
   "name": "python",
   "nbconvert_exporter": "python",
   "pygments_lexer": "ipython3",
   "version": "3.9.2"
  }
 },
 "nbformat": 4,
 "nbformat_minor": 0
}
