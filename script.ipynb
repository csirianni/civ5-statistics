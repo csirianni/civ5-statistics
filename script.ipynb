{
 "nbformat": 4,
 "nbformat_minor": 0,
 "metadata": {
  "kernelspec": {
   "display_name": "Python 3",
   "language": "python",
   "name": "python3"
  },
  "language_info": {
   "codemirror_mode": {
    "name": "ipython",
    "version": 2
   },
   "file_extension": ".py",
   "mimetype": "text/x-python",
   "name": "python",
   "nbconvert_exporter": "python",
   "pygments_lexer": "ipython2",
   "version": "2.7.6"
  },
  "colab": {
   "name": "script.ipynb",
   "provenance": []
  }
 },
 "cells": [
  {
   "cell_type": "code",
   "metadata": {
    "pycharm": {
     "name": "#%%\n"
    },
    "colab": {
     "base_uri": "https://localhost:8080/",
     "height": 417
    },
    "id": "AG_ZJluJEB9L",
    "executionInfo": {
     "status": "ok",
     "timestamp": 1623851207322,
     "user_tz": 240,
     "elapsed": 117,
     "user": {
      "displayName": "Cedric Sirianni",
      "photoUrl": "https://lh3.googleusercontent.com/a-/AOh14GimPKVUZLbGkdQUTmeCKFG3A9gWUz9Ko-xXaxPkSA=s64",
      "userId": "10142916882577320011"
     }
    },
    "outputId": "d1434ef3-35b8-4e8e-bf64-35cbedbb826d"
   },
   "source": [
    "import pandas as pd\n",
    "import numpy as np\n",
    "import matplotlib.pyplot as plt\n",
    "import seaborn as sns\n",
    "from scipy import stats\n",
    "from sklearn.linear_model import LinearRegression\n",
    "\n",
    "\n",
    "data = pd.read_excel(\"./Data-FilthyRobot.xlsx\")\n",
    "data"
   ],
   "execution_count": 42,
   "outputs": [
    {
     "output_type": "execute_result",
     "data": {
      "text/html": [
       "<div>\n",
       "<style scoped>\n",
       "    .dataframe tbody tr th:only-of-type {\n",
       "        vertical-align: middle;\n",
       "    }\n",
       "\n",
       "    .dataframe tbody tr th {\n",
       "        vertical-align: top;\n",
       "    }\n",
       "\n",
       "    .dataframe thead th {\n",
       "        text-align: right;\n",
       "    }\n",
       "</style>\n",
       "<table border=\"1\" class=\"dataframe\">\n",
       "  <thead>\n",
       "    <tr style=\"text-align: right;\">\n",
       "      <th></th>\n",
       "      <th>game</th>\n",
       "      <th>civilization</th>\n",
       "      <th>score</th>\n",
       "      <th>turns</th>\n",
       "      <th>won</th>\n",
       "      <th>mountain</th>\n",
       "      <th>river</th>\n",
       "      <th>ocean</th>\n",
       "      <th>hill</th>\n",
       "    </tr>\n",
       "  </thead>\n",
       "  <tbody>\n",
       "    <tr>\n",
       "      <th>0</th>\n",
       "      <td>2</td>\n",
       "      <td>shoshone</td>\n",
       "      <td>1573</td>\n",
       "      <td>186</td>\n",
       "      <td>1</td>\n",
       "      <td>0</td>\n",
       "      <td>1</td>\n",
       "      <td>0</td>\n",
       "      <td>1</td>\n",
       "    </tr>\n",
       "    <tr>\n",
       "      <th>1</th>\n",
       "      <td>3</td>\n",
       "      <td>aztec</td>\n",
       "      <td>1172</td>\n",
       "      <td>159</td>\n",
       "      <td>1</td>\n",
       "      <td>1</td>\n",
       "      <td>1</td>\n",
       "      <td>0</td>\n",
       "      <td>1</td>\n",
       "    </tr>\n",
       "    <tr>\n",
       "      <th>2</th>\n",
       "      <td>11</td>\n",
       "      <td>shoshone</td>\n",
       "      <td>1153</td>\n",
       "      <td>198</td>\n",
       "      <td>1</td>\n",
       "      <td>0</td>\n",
       "      <td>0</td>\n",
       "      <td>1</td>\n",
       "      <td>1</td>\n",
       "    </tr>\n",
       "    <tr>\n",
       "      <th>3</th>\n",
       "      <td>14</td>\n",
       "      <td>arabia</td>\n",
       "      <td>1729</td>\n",
       "      <td>186</td>\n",
       "      <td>1</td>\n",
       "      <td>0</td>\n",
       "      <td>0</td>\n",
       "      <td>0</td>\n",
       "      <td>1</td>\n",
       "    </tr>\n",
       "    <tr>\n",
       "      <th>4</th>\n",
       "      <td>28</td>\n",
       "      <td>shoshone</td>\n",
       "      <td>1385</td>\n",
       "      <td>172</td>\n",
       "      <td>1</td>\n",
       "      <td>0</td>\n",
       "      <td>0</td>\n",
       "      <td>1</td>\n",
       "      <td>1</td>\n",
       "    </tr>\n",
       "    <tr>\n",
       "      <th>...</th>\n",
       "      <td>...</td>\n",
       "      <td>...</td>\n",
       "      <td>...</td>\n",
       "      <td>...</td>\n",
       "      <td>...</td>\n",
       "      <td>...</td>\n",
       "      <td>...</td>\n",
       "      <td>...</td>\n",
       "      <td>...</td>\n",
       "    </tr>\n",
       "    <tr>\n",
       "      <th>67</th>\n",
       "      <td>404</td>\n",
       "      <td>greece</td>\n",
       "      <td>1424</td>\n",
       "      <td>176</td>\n",
       "      <td>0</td>\n",
       "      <td>0</td>\n",
       "      <td>1</td>\n",
       "      <td>0</td>\n",
       "      <td>1</td>\n",
       "    </tr>\n",
       "    <tr>\n",
       "      <th>68</th>\n",
       "      <td>425</td>\n",
       "      <td>greece</td>\n",
       "      <td>1185</td>\n",
       "      <td>172</td>\n",
       "      <td>0</td>\n",
       "      <td>1</td>\n",
       "      <td>0</td>\n",
       "      <td>0</td>\n",
       "      <td>1</td>\n",
       "    </tr>\n",
       "    <tr>\n",
       "      <th>69</th>\n",
       "      <td>427</td>\n",
       "      <td>mayan</td>\n",
       "      <td>422</td>\n",
       "      <td>99</td>\n",
       "      <td>0</td>\n",
       "      <td>0</td>\n",
       "      <td>0</td>\n",
       "      <td>1</td>\n",
       "      <td>1</td>\n",
       "    </tr>\n",
       "    <tr>\n",
       "      <th>70</th>\n",
       "      <td>458</td>\n",
       "      <td>spain</td>\n",
       "      <td>2006</td>\n",
       "      <td>161</td>\n",
       "      <td>1</td>\n",
       "      <td>0</td>\n",
       "      <td>0</td>\n",
       "      <td>1</td>\n",
       "      <td>1</td>\n",
       "    </tr>\n",
       "    <tr>\n",
       "      <th>71</th>\n",
       "      <td>465</td>\n",
       "      <td>russia</td>\n",
       "      <td>1407</td>\n",
       "      <td>137</td>\n",
       "      <td>0</td>\n",
       "      <td>0</td>\n",
       "      <td>1</td>\n",
       "      <td>0</td>\n",
       "      <td>1</td>\n",
       "    </tr>\n",
       "  </tbody>\n",
       "</table>\n",
       "<p>72 rows × 9 columns</p>\n",
       "</div>"
      ],
      "text/plain": [
       "    game civilization  score  turns  won  mountain  river  ocean  hill\n",
       "0      2     shoshone   1573    186    1         0      1      0     1\n",
       "1      3        aztec   1172    159    1         1      1      0     1\n",
       "2     11     shoshone   1153    198    1         0      0      1     1\n",
       "3     14       arabia   1729    186    1         0      0      0     1\n",
       "4     28     shoshone   1385    172    1         0      0      1     1\n",
       "..   ...          ...    ...    ...  ...       ...    ...    ...   ...\n",
       "67   404       greece   1424    176    0         0      1      0     1\n",
       "68   425       greece   1185    172    0         1      0      0     1\n",
       "69   427        mayan    422     99    0         0      0      1     1\n",
       "70   458        spain   2006    161    1         0      0      1     1\n",
       "71   465       russia   1407    137    0         0      1      0     1\n",
       "\n",
       "[72 rows x 9 columns]"
      ]
     },
     "metadata": {
      "tags": []
     },
     "execution_count": 42
    }
   ]
  },
  {
   "cell_type": "code",
   "metadata": {
    "pycharm": {
     "name": "#%%\n"
    },
    "colab": {
     "base_uri": "https://localhost:8080/"
    },
    "id": "0R5twvWOEB9P",
    "executionInfo": {
     "status": "ok",
     "timestamp": 1623851207457,
     "user_tz": 240,
     "elapsed": 7,
     "user": {
      "displayName": "Cedric Sirianni",
      "photoUrl": "https://lh3.googleusercontent.com/a-/AOh14GimPKVUZLbGkdQUTmeCKFG3A9gWUz9Ko-xXaxPkSA=s64",
      "userId": "10142916882577320011"
     }
    },
    "outputId": "8101583b-2c4e-4e50-cc06-dfcc734ef73b"
   },
   "source": [
    "print(data.shape)\n",
    "print(list(data.columns))"
   ],
   "execution_count": 43,
   "outputs": [
    {
     "output_type": "stream",
     "text": [
      "(72, 9)\n",
      "['game', 'civilization', 'score', 'turns', 'won', 'mountain', 'river', 'ocean', 'hill']\n"
     ],
     "name": "stdout"
    }
   ]
  },
  {
   "cell_type": "code",
   "metadata": {
    "pycharm": {
     "name": "#%%\n"
    },
    "colab": {
     "base_uri": "https://localhost:8080/"
    },
    "id": "AxsEuhHmEB9Q",
    "executionInfo": {
     "status": "ok",
     "timestamp": 1623851207569,
     "user_tz": 240,
     "elapsed": 116,
     "user": {
      "displayName": "Cedric Sirianni",
      "photoUrl": "https://lh3.googleusercontent.com/a-/AOh14GimPKVUZLbGkdQUTmeCKFG3A9gWUz9Ko-xXaxPkSA=s64",
      "userId": "10142916882577320011"
     }
    },
    "outputId": "d7ec4f5a-9f93-4c30-fbaf-27180bdb8885"
   },
   "source": [
    "# fix the data types of columns\n",
    "print(data.dtypes)\n",
    "data['civilization'] = data['civilization'].astype('category')\n",
    "data['score'] = data['score'].astype('int')\n",
    "data['turns'] = data['turns'].astype('int')\n",
    "data['won'] = data['won'].astype('bool')\n",
    "data['mountain'] = data['mountain'].astype('bool')\n",
    "data['river'] = data['river'].astype('bool')\n",
    "data['ocean'] = data['ocean'].astype('bool')\n",
    "data['hill'] = data['hill'].astype('bool')\n",
    "print(data.dtypes)"
   ],
   "execution_count": 44,
   "outputs": [
    {
     "output_type": "stream",
     "text": [
      "game             int64\n",
      "civilization    object\n",
      "score            int64\n",
      "turns            int64\n",
      "won              int64\n",
      "mountain         int64\n",
      "river            int64\n",
      "ocean            int64\n",
      "hill             int64\n",
      "dtype: object\n",
      "game               int64\n",
      "civilization    category\n",
      "score              int64\n",
      "turns              int64\n",
      "won                 bool\n",
      "mountain            bool\n",
      "river               bool\n",
      "ocean               bool\n",
      "hill                bool\n",
      "dtype: object\n"
     ],
     "name": "stdout"
    }
   ]
  },
  {
   "cell_type": "code",
   "metadata": {
    "pycharm": {
     "name": "#%%\n"
    },
    "colab": {
     "base_uri": "https://localhost:8080/"
    },
    "id": "4Xd-jK2wEB9Q",
    "executionInfo": {
     "status": "ok",
     "timestamp": 1623851207570,
     "user_tz": 240,
     "elapsed": 5,
     "user": {
      "displayName": "Cedric Sirianni",
      "photoUrl": "https://lh3.googleusercontent.com/a-/AOh14GimPKVUZLbGkdQUTmeCKFG3A9gWUz9Ko-xXaxPkSA=s64",
      "userId": "10142916882577320011"
     }
    },
    "outputId": "555bbc03-e504-4508-cbaf-20dd3b905d15"
   },
   "source": [
    "print(data['civilization'].value_counts())"
   ],
   "execution_count": 45,
   "outputs": [
    {
     "output_type": "stream",
     "text": [
      "greece      15\n",
      "russia      13\n",
      "aztec       11\n",
      "spain        8\n",
      "shoshone     7\n",
      "arabia       7\n",
      "china        5\n",
      "mayan        4\n",
      "huns         2\n",
      "Name: civilization, dtype: int64\n"
     ],
     "name": "stdout"
    }
   ]
  },
  {
   "cell_type": "code",
   "metadata": {
    "pycharm": {
     "name": "#%%\n"
    },
    "colab": {
     "base_uri": "https://localhost:8080/",
     "height": 419
    },
    "id": "SLdpiB3TEB9R",
    "executionInfo": {
     "status": "ok",
     "timestamp": 1623851207690,
     "user_tz": 240,
     "elapsed": 123,
     "user": {
      "displayName": "Cedric Sirianni",
      "photoUrl": "https://lh3.googleusercontent.com/a-/AOh14GimPKVUZLbGkdQUTmeCKFG3A9gWUz9Ko-xXaxPkSA=s64",
      "userId": "10142916882577320011"
     }
    },
    "outputId": "f7c8917e-8eb9-4d24-e962-962947518a58"
   },
   "source": [
    "\n",
    "mountain_bar = data['mountain'].value_counts().plot(kind='bar', xlabel=\"Capital adjacent to a mountain?\", ylabel=\"Frequency\", title = \"Mountain Distribution\", figsize = (6,6), color='green')\n",
    "fig = mountain_bar.get_figure()\n",
    "# fig.savefig(\"../Media/Graphs/mountain_bar\")"
   ],
   "execution_count": 46,
   "outputs": [
    {
     "output_type": "display_data",
     "data": {
      "image/png": "[encoded data removed]",
      "text/plain": [
       "<Figure size 432x432 with 1 Axes>"
      ]
     },
     "metadata": {
      "tags": [],
      "needs_background": "light"
     }
    }
   ]
  },
  {
   "cell_type": "code",
   "metadata": {
    "pycharm": {
     "name": "#%%\n"
    },
    "colab": {
     "base_uri": "https://localhost:8080/",
     "height": 419
    },
    "id": "kshAM5MjEB9R",
    "executionInfo": {
     "status": "ok",
     "timestamp": 1623851207858,
     "user_tz": 240,
     "elapsed": 171,
     "user": {
      "displayName": "Cedric Sirianni",
      "photoUrl": "https://lh3.googleusercontent.com/a-/AOh14GimPKVUZLbGkdQUTmeCKFG3A9gWUz9Ko-xXaxPkSA=s64",
      "userId": "10142916882577320011"
     }
    },
    "outputId": "1997b9da-d5c3-4dbd-9d95-909355f3e74a"
   },
   "source": [
    "# ascending=True used to have x-axis always be False -> True\n",
    "river_bar = data['river'].value_counts(ascending=True).plot(kind='bar', xlabel=\"Capital on a river?\", ylabel=\"Frequency\", title = \"River Distribution\", figsize = (6,6), color='green')\n",
    "fig = river_bar.get_figure()\n",
    "# fig.savefig(\"../Media/Graphs/river_bar\")"
   ],
   "execution_count": 47,
   "outputs": [
    {
     "output_type": "display_data",
     "data": {
      "image/png": "[encoded data removed]",
      "text/plain": [
       "<Figure size 432x432 with 1 Axes>"
      ]
     },
     "metadata": {
      "tags": [],
      "needs_background": "light"
     }
    }
   ]
  },
  {
   "cell_type": "code",
   "metadata": {
    "pycharm": {
     "name": "#%%\n"
    },
    "colab": {
     "base_uri": "https://localhost:8080/",
     "height": 419
    },
    "id": "kTP2S8a5EB9R",
    "executionInfo": {
     "status": "ok",
     "timestamp": 1623851208105,
     "user_tz": 240,
     "elapsed": 250,
     "user": {
      "displayName": "Cedric Sirianni",
      "photoUrl": "https://lh3.googleusercontent.com/a-/AOh14GimPKVUZLbGkdQUTmeCKFG3A9gWUz9Ko-xXaxPkSA=s64",
      "userId": "10142916882577320011"
     }
    },
    "outputId": "f1aa5456-69d5-42dc-961d-53de5e4bb45a"
   },
   "source": [
    "ocean_bar = data['ocean'].value_counts().plot(kind='bar', xlabel=\"Capital on the ocean?\", ylabel=\"Frequency\", title = \"Ocean Distribution\", figsize = (6,6), color='green')\n",
    "fig = ocean_bar.get_figure()\n",
    "# fig.savefig(\"../Media/Graphs/ocean_bar\")"
   ],
   "execution_count": 48,
   "outputs": [
    {
     "output_type": "display_data",
     "data": {
      "image/png": "[encoded data removed]",
      "text/plain": [
       "<Figure size 432x432 with 1 Axes>"
      ]
     },
     "metadata": {
      "tags": [],
      "needs_background": "light"
     }
    }
   ]
  },
  {
   "cell_type": "code",
   "metadata": {
    "pycharm": {
     "name": "#%%\n"
    },
    "colab": {
     "base_uri": "https://localhost:8080/",
     "height": 419
    },
    "id": "jfNPWw2CEB9S",
    "executionInfo": {
     "status": "ok",
     "timestamp": 1623851208260,
     "user_tz": 240,
     "elapsed": 158,
     "user": {
      "displayName": "Cedric Sirianni",
      "photoUrl": "https://lh3.googleusercontent.com/a-/AOh14GimPKVUZLbGkdQUTmeCKFG3A9gWUz9Ko-xXaxPkSA=s64",
      "userId": "10142916882577320011"
     }
    },
    "outputId": "a199cf0c-e103-41a3-a39d-95d33c4822b4"
   },
   "source": [
    "# ascending=True used to have x-axis always be False -> True\n",
    "hill_bar = data['hill'].value_counts(ascending=True).plot(kind='bar', xlabel=\"Capital on a hill?\", ylabel=\"Frequency\", title = \"Hill Distribution\", figsize = (6,6), color='green')\n",
    "fig = hill_bar.get_figure()\n",
    "# fig.savefig(\"../Media/Graphs/hill_bar\")"
   ],
   "execution_count": 49,
   "outputs": [
    {
     "output_type": "display_data",
     "data": {
      "image/png": "[encoded data removed]",
      "text/plain": [
       "<Figure size 432x432 with 1 Axes>"
      ]
     },
     "metadata": {
      "tags": [],
      "needs_background": "light"
     }
    }
   ]
  },
  {
   "cell_type": "code",
   "metadata": {
    "pycharm": {
     "name": "#%%\n"
    },
    "colab": {
     "base_uri": "https://localhost:8080/",
     "height": 269
    },
    "id": "mGVoIxc9EB9S",
    "executionInfo": {
     "status": "ok",
     "timestamp": 1623851208595,
     "user_tz": 240,
     "elapsed": 340,
     "user": {
      "displayName": "Cedric Sirianni",
      "photoUrl": "https://lh3.googleusercontent.com/a-/AOh14GimPKVUZLbGkdQUTmeCKFG3A9gWUz9Ko-xXaxPkSA=s64",
      "userId": "10142916882577320011"
     }
    },
    "outputId": "959f179c-e322-4fcb-ddb1-ec6721442dff"
   },
   "source": [
    "X = data.turns.values.reshape(-1, 1)  # values converts it into a numpy array\n",
    "Y = data.score.values.reshape(-1, 1)  # -1 means that calculate the dimension of rows, but have 1 column\n",
    "linear_regressor = LinearRegression()  # create object for the class\n",
    "linear_regressor.fit(X, Y)  # perform linear regression\n",
    "Y_pred = linear_regressor.predict(X)  # make predictions\n",
    "\n",
    "plt.scatter(X, Y, color='green')\n",
    "plt.plot(X, Y_pred, color='red')\n",
    "plt.show()"
   ],
   "execution_count": 50,
   "outputs": [
    {
     "output_type": "display_data",
     "data": {
      "image/png": "[encoded data removed]",
      "text/plain": [
       "<Figure size 432x288 with 1 Axes>"
      ]
     },
     "metadata": {
      "tags": [],
      "needs_background": "light"
     }
    }
   ]
  },
  {
   "cell_type": "code",
   "metadata": {
    "pycharm": {
     "name": "#%%\n"
    },
    "colab": {
     "base_uri": "https://localhost:8080/",
     "height": 295
    },
    "id": "IcI1GnJFEB9T",
    "executionInfo": {
     "status": "ok",
     "timestamp": 1623851208596,
     "user_tz": 240,
     "elapsed": 6,
     "user": {
      "displayName": "Cedric Sirianni",
      "photoUrl": "https://lh3.googleusercontent.com/a-/AOh14GimPKVUZLbGkdQUTmeCKFG3A9gWUz9Ko-xXaxPkSA=s64",
      "userId": "10142916882577320011"
     }
    },
    "outputId": "708ea3fa-7623-470e-e54e-0a17ff76e8da"
   },
   "source": [
    "X = data.mountain.values.reshape(-1, 1)  # values converts it into a numpy array\n",
    "Y = data.won.values.reshape(-1, 1)  # -1 means that calculate the dimension of rows, but have 1 column\n",
    "linear_regressor = LinearRegression()  # create object for the class\n",
    "linear_regressor.fit(X, Y)  # perform linear regression\n",
    "Y_pred = linear_regressor.predict(X)  # make predictions\n",
    "\n",
    "plt.scatter(X, Y, color='green')\n",
    "# plt.plot(X, Y_pred, color='red')\n",
    "plt.xlabel(\"Capital adjacent to a mountain?\")\n",
    "plt.ylabel(\"Won\")\n",
    "plt.title(\"Mountain vs. Won Distribution\")\n",
    "plt.xticks([0, 1], ['False', 'True'])\n",
    "plt.yticks([0, 1], ['False', 'True'])\n",
    "# plt.savefig(\"../Media/Graphs/mountain_vs_won\")\n",
    "plt.show()\n"
   ],
   "execution_count": 51,
   "outputs": [
    {
     "output_type": "display_data",
     "data": {
      "image/png": "[encoded data removed]",
      "text/plain": [
       "<Figure size 432x288 with 1 Axes>"
      ]
     },
     "metadata": {
      "tags": [],
      "needs_background": "light"
     }
    }
   ]
  },
  {
   "cell_type": "code",
   "metadata": {
    "pycharm": {
     "name": "#%%\n"
    },
    "colab": {
     "base_uri": "https://localhost:8080/",
     "height": 295
    },
    "id": "_S5EKiRVEB9T",
    "executionInfo": {
     "status": "ok",
     "timestamp": 1623851208813,
     "user_tz": 240,
     "elapsed": 10,
     "user": {
      "displayName": "Cedric Sirianni",
      "photoUrl": "https://lh3.googleusercontent.com/a-/AOh14GimPKVUZLbGkdQUTmeCKFG3A9gWUz9Ko-xXaxPkSA=s64",
      "userId": "10142916882577320011"
     }
    },
    "outputId": "dfa678a8-8324-49ca-d9bc-1f5eb12695da"
   },
   "source": [
    "X = data.mountain.values.reshape(-1, 1)  # values converts it into a numpy array\n",
    "Y = data.won.values.reshape(-1, 1)  # -1 means that calculate the dimension of rows, but have 1 column\n",
    "linear_regressor = LinearRegression()  # create object for the class\n",
    "linear_regressor.fit(X, Y)  # perform linear regression\n",
    "Y_pred = linear_regressor.predict(X)  # make predictions\n",
    "\n",
    "plt.scatter(X, Y, color='green')\n",
    "plt.plot(X, Y_pred, color='red', label=\"Line of Best Fit\")\n",
    "plt.xlabel(\"Capital adjacent to a mountain?\")\n",
    "plt.ylabel(\"Won\")\n",
    "plt.legend()\n",
    "plt.title(\"Mountain vs. Won Distribution\")\n",
    "plt.xticks([0, 1], ['False', 'True'])\n",
    "plt.yticks([0, 1], ['False', 'True'])\n",
    "# plt.savefig(\"../Media/Graphs/mountain_vs_won_linear_regression\")\n",
    "plt.show()"
   ],
   "execution_count": 52,
   "outputs": [
    {
     "output_type": "display_data",
     "data": {
      "image/png": "[encoded data removed]",
      "text/plain": [
       "<Figure size 432x288 with 1 Axes>"
      ]
     },
     "metadata": {
      "tags": [],
      "needs_background": "light"
     }
    }
   ]
  },
  {
   "cell_type": "code",
   "metadata": {
    "pycharm": {
     "name": "#%%\n"
    },
    "colab": {
     "base_uri": "https://localhost:8080/"
    },
    "id": "sY-1AvYXEB9U",
    "executionInfo": {
     "status": "ok",
     "timestamp": 1623851208814,
     "user_tz": 240,
     "elapsed": 10,
     "user": {
      "displayName": "Cedric Sirianni",
      "photoUrl": "https://lh3.googleusercontent.com/a-/AOh14GimPKVUZLbGkdQUTmeCKFG3A9gWUz9Ko-xXaxPkSA=s64",
      "userId": "10142916882577320011"
     }
    },
    "outputId": "8a7df0f3-9006-4fcf-e958-726e671663c9"
   },
   "source": [
    "# win rate %\n",
    "print(data['won'].mean())"
   ],
   "execution_count": 53,
   "outputs": [
    {
     "output_type": "stream",
     "text": [
      "0.6111111111111112\n"
     ],
     "name": "stdout"
    }
   ]
  },
  {
   "cell_type": "code",
   "metadata": {
    "pycharm": {
     "name": "#%%\n"
    },
    "id": "Y0yAhj38EB9U",
    "executionInfo": {
     "status": "ok",
     "timestamp": 1623851208814,
     "user_tz": 240,
     "elapsed": 8,
     "user": {
      "displayName": "Cedric Sirianni",
      "photoUrl": "https://lh3.googleusercontent.com/a-/AOh14GimPKVUZLbGkdQUTmeCKFG3A9gWUz9Ko-xXaxPkSA=s64",
      "userId": "10142916882577320011"
     }
    }
   },
   "source": [
    "# pd.crosstab(data.civilization, data.won).plot(kind='bar')\n",
    "# plt.show()"
   ],
   "execution_count": 54,
   "outputs": []
  },
  {
   "cell_type": "code",
   "metadata": {
    "pycharm": {
     "name": "#%%\n"
    },
    "colab": {
     "base_uri": "https://localhost:8080/"
    },
    "id": "GEmWW73OEB9U",
    "executionInfo": {
     "status": "ok",
     "timestamp": 1623851208815,
     "user_tz": 240,
     "elapsed": 8,
     "user": {
      "displayName": "Cedric Sirianni",
      "photoUrl": "https://lh3.googleusercontent.com/a-/AOh14GimPKVUZLbGkdQUTmeCKFG3A9gWUz9Ko-xXaxPkSA=s64",
      "userId": "10142916882577320011"
     }
    },
    "outputId": "f079896b-6029-4913-cd6d-0419b9c19751"
   },
   "source": [
    "# exploring the groupby method\n",
    "# by_civilization = data.groupby('civilization')\n",
    "# for civ in by_civilization:\n",
    "#     print(civ)\n",
    "print(data.groupby('civilization')['won'].mean())"
   ],
   "execution_count": 55,
   "outputs": [
    {
     "output_type": "stream",
     "text": [
      "civilization\n",
      "arabia      0.714286\n",
      "aztec       0.818182\n",
      "china       0.800000\n",
      "greece      0.533333\n",
      "huns        0.500000\n",
      "mayan       0.500000\n",
      "russia      0.538462\n",
      "shoshone    0.714286\n",
      "spain       0.375000\n",
      "Name: won, dtype: float64\n"
     ],
     "name": "stdout"
    }
   ]
  },
  {
   "cell_type": "code",
   "metadata": {
    "pycharm": {
     "name": "#%%\n"
    },
    "colab": {
     "base_uri": "https://localhost:8080/",
     "height": 525
    },
    "id": "KUIonR1eEB9U",
    "executionInfo": {
     "status": "ok",
     "timestamp": 1623851209454,
     "user_tz": 240,
     "elapsed": 645,
     "user": {
      "displayName": "Cedric Sirianni",
      "photoUrl": "https://lh3.googleusercontent.com/a-/AOh14GimPKVUZLbGkdQUTmeCKFG3A9gWUz9Ko-xXaxPkSA=s64",
      "userId": "10142916882577320011"
     }
    },
    "outputId": "275c6fb9-6018-4367-8e42-678d8f8521c3"
   },
   "source": [
    "plt.figure(figsize=(15, 8))\n",
    "plt.bar(data.civilization.unique(), data.groupby('civilization')['won'].mean(), color='green')\n",
    "plt.axhline(y=.61, linewidth=1, color='black', label='Average Win Rate')\n",
    "plt.legend(fontsize = 18)\n",
    "plt.title('Win Rate of Civilizations', fontsize = 18)\n",
    "plt.xlabel('Civilization', fontsize = 18)\n",
    "plt.ylabel('Win Rate', fontsize = 18)\n",
    "# plt.savefig(\"../Media/Graphs/civ_win_rates\")\n",
    "plt.show()"
   ],
   "execution_count": 56,
   "outputs": [
    {
     "output_type": "display_data",
     "data": {
      "image/png": "[encoded data removed]",
      "text/plain": [
       "<Figure size 1080x576 with 1 Axes>"
      ]
     },
     "metadata": {
      "tags": [],
      "needs_background": "light"
     }
    }
   ]
  },
  {
   "cell_type": "code",
   "metadata": {
    "pycharm": {
     "name": "#%%\n"
    },
    "colab": {
     "base_uri": "https://localhost:8080/"
    },
    "id": "IVEmnmsLEB9V",
    "executionInfo": {
     "status": "ok",
     "timestamp": 1623851209455,
     "user_tz": 240,
     "elapsed": 9,
     "user": {
      "displayName": "Cedric Sirianni",
      "photoUrl": "https://lh3.googleusercontent.com/a-/AOh14GimPKVUZLbGkdQUTmeCKFG3A9gWUz9Ko-xXaxPkSA=s64",
      "userId": "10142916882577320011"
     }
    },
    "outputId": "6217785b-4e00-4e6c-bab9-e9b634f7a66a"
   },
   "source": [
    "no_spain = data.loc[data['civilization'] != 'spain']\n",
    "print(no_spain)\n",
    "print(no_spain['won'].mean())\n",
    "\n",
    "spain = data.loc[data['civilization'] == 'spain']\n",
    "print(spain)\n",
    "print(spain['won'].mean())\n",
    "\n",
    "stats.ttest_1samp(spain['won'], no_spain['won'].mean())"
   ],
   "execution_count": 57,
   "outputs": [
    {
     "output_type": "stream",
     "text": [
      "    game civilization  score  turns    won  mountain  river  ocean  hill\n",
      "0      2     shoshone   1573    186   True     False   True  False  True\n",
      "1      3        aztec   1172    159   True      True   True  False  True\n",
      "2     11     shoshone   1153    198   True     False  False   True  True\n",
      "3     14       arabia   1729    186   True     False  False  False  True\n",
      "4     28     shoshone   1385    172   True     False  False   True  True\n",
      "..   ...          ...    ...    ...    ...       ...    ...    ...   ...\n",
      "65   395       greece    925    107  False     False   True  False  True\n",
      "67   404       greece   1424    176  False     False   True  False  True\n",
      "68   425       greece   1185    172  False      True  False  False  True\n",
      "69   427        mayan    422     99  False     False  False   True  True\n",
      "71   465       russia   1407    137  False     False   True  False  True\n",
      "\n",
      "[64 rows x 9 columns]\n",
      "0.640625\n",
      "    game civilization  score  turns    won  mountain  river  ocean   hill\n",
      "30   154        spain    701    126  False     False   True   True   True\n",
      "31   156        spain   1487    197  False     False  False   True  False\n",
      "46   236        spain   1477    178  False     False   True   True   True\n",
      "49   270        spain   1395    176  False      True   True  False  False\n",
      "54   293        spain   2189    188   True     False   True   True   True\n",
      "58   317        spain   1336    100   True     False  False  False   True\n",
      "66   403        spain   1060    156  False     False   True   True  False\n",
      "70   458        spain   2006    161   True     False  False   True   True\n",
      "0.375\n"
     ],
     "name": "stdout"
    },
    {
     "output_type": "execute_result",
     "data": {
      "text/plain": [
       "Ttest_1sampResult(statistic=-1.451651358510943, pvalue=0.18989656504038468)"
      ]
     },
     "metadata": {
      "tags": []
     },
     "execution_count": 57
    }
   ]
  },
  {
   "cell_type": "code",
   "metadata": {
    "pycharm": {
     "name": "#%%\n"
    },
    "colab": {
     "base_uri": "https://localhost:8080/",
     "height": 1000
    },
    "id": "FTW2uwPiEB9V",
    "executionInfo": {
     "status": "ok",
     "timestamp": 1623851210002,
     "user_tz": 240,
     "elapsed": 553,
     "user": {
      "displayName": "Cedric Sirianni",
      "photoUrl": "https://lh3.googleusercontent.com/a-/AOh14GimPKVUZLbGkdQUTmeCKFG3A9gWUz9Ko-xXaxPkSA=s64",
      "userId": "10142916882577320011"
     }
    },
    "outputId": "bcf54177-007d-42cb-870c-26cab2f349d9"
   },
   "source": [
    "pd.crosstab(data.mountain, data.won).plot(kind='bar')\n",
    "pd.crosstab(data.river, data.won).plot(kind='bar')\n",
    "pd.crosstab(data.ocean, data.won).plot(kind='bar')\n",
    "pd.crosstab(data.hill, data.won).plot(kind='bar')"
   ],
   "execution_count": 58,
   "outputs": [
    {
     "output_type": "execute_result",
     "data": {
      "text/plain": [
       "<matplotlib.axes._subplots.AxesSubplot at 0x7fe2489b4b90>"
      ]
     },
     "metadata": {
      "tags": []
     },
     "execution_count": 58
    },
    {
     "output_type": "display_data",
     "data": {
      "image/png": "[encoded data removed]",
      "text/plain": [
       "<Figure size 432x288 with 1 Axes>"
      ]
     },
     "metadata": {
      "tags": [],
      "needs_background": "light"
     }
    },
    {
     "output_type": "display_data",
     "data": {
      "image/png": "[encoded data removed]",
      "text/plain": [
       "<Figure size 432x288 with 1 Axes>"
      ]
     },
     "metadata": {
      "tags": [],
      "needs_background": "light"
     }
    },
    {
     "output_type": "display_data",
     "data": {
      "image/png": "[encoded data removed]",
      "text/plain": [
       "<Figure size 432x288 with 1 Axes>"
      ]
     },
     "metadata": {
      "tags": [],
      "needs_background": "light"
     }
    },
    {
     "output_type": "display_data",
     "data": {
      "image/png": "[encoded data removed]",
      "text/plain": [
       "<Figure size 432x288 with 1 Axes>"
      ]
     },
     "metadata": {
      "tags": [],
      "needs_background": "light"
     }
    }
   ]
  },
  {
   "cell_type": "code",
   "metadata": {
    "pycharm": {
     "name": "#%%\n"
    },
    "id": "Pd9jXGqCEB9W",
    "executionInfo": {
     "status": "ok",
     "timestamp": 1623851210003,
     "user_tz": 240,
     "elapsed": 9,
     "user": {
      "displayName": "Cedric Sirianni",
      "photoUrl": "https://lh3.googleusercontent.com/a-/AOh14GimPKVUZLbGkdQUTmeCKFG3A9gWUz9Ko-xXaxPkSA=s64",
      "userId": "10142916882577320011"
     }
    }
   },
   "source": [
    "import statsmodels.api as sm\n",
    "X = data[['mountain', 'hill', 'ocean', 'river']]\n",
    "y = data['won']\n",
    "\n",
    "# log_reg = sm.Logit(y, sm.add_constant(X)).fit()\n",
    "# print(log_reg.summary())\n",
    "# print(log_reg.params)\n",
    "# np.exp(log_reg.params)"
   ],
   "execution_count": 59,
   "outputs": []
  },
  {
   "cell_type": "code",
   "metadata": {
    "pycharm": {
     "name": "#%%\n"
    },
    "colab": {
     "base_uri": "https://localhost:8080/",
     "height": 404
    },
    "id": "ZG_5gGuLEB9W",
    "executionInfo": {
     "status": "error",
     "timestamp": 1623851210272,
     "user_tz": 240,
     "elapsed": 277,
     "user": {
      "displayName": "Cedric Sirianni",
      "photoUrl": "https://lh3.googleusercontent.com/a-/AOh14GimPKVUZLbGkdQUTmeCKFG3A9gWUz9Ko-xXaxPkSA=s64",
      "userId": "10142916882577320011"
     }
    },
    "outputId": "7620908c-a943-4cb1-bd0f-1bef49da96a5"
   },
   "source": [
    "log_reg = sm.Logit(y, X).fit()\n",
    "print(log_reg.summary())\n",
    "print(log_reg.params)\n",
    "np.exp(log_reg.params)"
   ],
   "execution_count": 60,
   "outputs": [
    {
     "output_type": "error",
     "ename": "TypeError",
     "evalue": "ignored",
     "traceback": [
      "\u001B[0;31m---------------------------------------------------------------------------\u001B[0m",
      "\u001B[0;31mTypeError\u001B[0m                                 Traceback (most recent call last)",
      "\u001B[0;32m<ipython-input-60-de45d6a415ba>\u001B[0m in \u001B[0;36m<module>\u001B[0;34m()\u001B[0m\n\u001B[0;32m----> 1\u001B[0;31m \u001B[0mlog_reg\u001B[0m \u001B[0;34m=\u001B[0m \u001B[0msm\u001B[0m\u001B[0;34m.\u001B[0m\u001B[0mLogit\u001B[0m\u001B[0;34m(\u001B[0m\u001B[0my\u001B[0m\u001B[0;34m,\u001B[0m \u001B[0mX\u001B[0m\u001B[0;34m)\u001B[0m\u001B[0;34m.\u001B[0m\u001B[0mfit\u001B[0m\u001B[0;34m(\u001B[0m\u001B[0;34m)\u001B[0m\u001B[0;34m\u001B[0m\u001B[0;34m\u001B[0m\u001B[0m\n\u001B[0m\u001B[1;32m      2\u001B[0m \u001B[0mprint\u001B[0m\u001B[0;34m(\u001B[0m\u001B[0mlog_reg\u001B[0m\u001B[0;34m.\u001B[0m\u001B[0msummary\u001B[0m\u001B[0;34m(\u001B[0m\u001B[0;34m)\u001B[0m\u001B[0;34m)\u001B[0m\u001B[0;34m\u001B[0m\u001B[0;34m\u001B[0m\u001B[0m\n\u001B[1;32m      3\u001B[0m \u001B[0mprint\u001B[0m\u001B[0;34m(\u001B[0m\u001B[0mlog_reg\u001B[0m\u001B[0;34m.\u001B[0m\u001B[0mparams\u001B[0m\u001B[0;34m)\u001B[0m\u001B[0;34m\u001B[0m\u001B[0;34m\u001B[0m\u001B[0m\n\u001B[1;32m      4\u001B[0m \u001B[0mnp\u001B[0m\u001B[0;34m.\u001B[0m\u001B[0mexp\u001B[0m\u001B[0;34m(\u001B[0m\u001B[0mlog_reg\u001B[0m\u001B[0;34m.\u001B[0m\u001B[0mparams\u001B[0m\u001B[0;34m)\u001B[0m\u001B[0;34m\u001B[0m\u001B[0;34m\u001B[0m\u001B[0m\n",
      "\u001B[0;32m/usr/local/lib/python3.7/dist-packages/statsmodels/discrete/discrete_model.py\u001B[0m in \u001B[0;36m__init__\u001B[0;34m(self, endog, exog, **kwargs)\u001B[0m\n\u001B[1;32m    427\u001B[0m \u001B[0;34m\u001B[0m\u001B[0m\n\u001B[1;32m    428\u001B[0m     \u001B[0;32mdef\u001B[0m \u001B[0m__init__\u001B[0m\u001B[0;34m(\u001B[0m\u001B[0mself\u001B[0m\u001B[0;34m,\u001B[0m \u001B[0mendog\u001B[0m\u001B[0;34m,\u001B[0m \u001B[0mexog\u001B[0m\u001B[0;34m,\u001B[0m \u001B[0;34m**\u001B[0m\u001B[0mkwargs\u001B[0m\u001B[0;34m)\u001B[0m\u001B[0;34m:\u001B[0m\u001B[0;34m\u001B[0m\u001B[0;34m\u001B[0m\u001B[0m\n\u001B[0;32m--> 429\u001B[0;31m         \u001B[0msuper\u001B[0m\u001B[0;34m(\u001B[0m\u001B[0mBinaryModel\u001B[0m\u001B[0;34m,\u001B[0m \u001B[0mself\u001B[0m\u001B[0;34m)\u001B[0m\u001B[0;34m.\u001B[0m\u001B[0m__init__\u001B[0m\u001B[0;34m(\u001B[0m\u001B[0mendog\u001B[0m\u001B[0;34m,\u001B[0m \u001B[0mexog\u001B[0m\u001B[0;34m,\u001B[0m \u001B[0;34m**\u001B[0m\u001B[0mkwargs\u001B[0m\u001B[0;34m)\u001B[0m\u001B[0;34m\u001B[0m\u001B[0;34m\u001B[0m\u001B[0m\n\u001B[0m\u001B[1;32m    430\u001B[0m         if (not issubclass(self.__class__, MultinomialModel) and\n\u001B[1;32m    431\u001B[0m                 not np.all((self.endog >= 0) & (self.endog <= 1))):\n",
      "\u001B[0;32m/usr/local/lib/python3.7/dist-packages/statsmodels/discrete/discrete_model.py\u001B[0m in \u001B[0;36m__init__\u001B[0;34m(self, endog, exog, **kwargs)\u001B[0m\n\u001B[1;32m    166\u001B[0m     \"\"\"\n\u001B[1;32m    167\u001B[0m     \u001B[0;32mdef\u001B[0m \u001B[0m__init__\u001B[0m\u001B[0;34m(\u001B[0m\u001B[0mself\u001B[0m\u001B[0;34m,\u001B[0m \u001B[0mendog\u001B[0m\u001B[0;34m,\u001B[0m \u001B[0mexog\u001B[0m\u001B[0;34m,\u001B[0m \u001B[0;34m**\u001B[0m\u001B[0mkwargs\u001B[0m\u001B[0;34m)\u001B[0m\u001B[0;34m:\u001B[0m\u001B[0;34m\u001B[0m\u001B[0;34m\u001B[0m\u001B[0m\n\u001B[0;32m--> 168\u001B[0;31m         \u001B[0msuper\u001B[0m\u001B[0;34m(\u001B[0m\u001B[0mDiscreteModel\u001B[0m\u001B[0;34m,\u001B[0m \u001B[0mself\u001B[0m\u001B[0;34m)\u001B[0m\u001B[0;34m.\u001B[0m\u001B[0m__init__\u001B[0m\u001B[0;34m(\u001B[0m\u001B[0mendog\u001B[0m\u001B[0;34m,\u001B[0m \u001B[0mexog\u001B[0m\u001B[0;34m,\u001B[0m \u001B[0;34m**\u001B[0m\u001B[0mkwargs\u001B[0m\u001B[0;34m)\u001B[0m\u001B[0;34m\u001B[0m\u001B[0;34m\u001B[0m\u001B[0m\n\u001B[0m\u001B[1;32m    169\u001B[0m         \u001B[0mself\u001B[0m\u001B[0;34m.\u001B[0m\u001B[0mraise_on_perfect_prediction\u001B[0m \u001B[0;34m=\u001B[0m \u001B[0;32mTrue\u001B[0m\u001B[0;34m\u001B[0m\u001B[0;34m\u001B[0m\u001B[0m\n\u001B[1;32m    170\u001B[0m \u001B[0;34m\u001B[0m\u001B[0m\n",
      "\u001B[0;32m/usr/local/lib/python3.7/dist-packages/statsmodels/base/model.py\u001B[0m in \u001B[0;36m__init__\u001B[0;34m(self, endog, exog, **kwargs)\u001B[0m\n\u001B[1;32m    214\u001B[0m \u001B[0;34m\u001B[0m\u001B[0m\n\u001B[1;32m    215\u001B[0m     \u001B[0;32mdef\u001B[0m \u001B[0m__init__\u001B[0m\u001B[0;34m(\u001B[0m\u001B[0mself\u001B[0m\u001B[0;34m,\u001B[0m \u001B[0mendog\u001B[0m\u001B[0;34m,\u001B[0m \u001B[0mexog\u001B[0m\u001B[0;34m=\u001B[0m\u001B[0;32mNone\u001B[0m\u001B[0;34m,\u001B[0m \u001B[0;34m**\u001B[0m\u001B[0mkwargs\u001B[0m\u001B[0;34m)\u001B[0m\u001B[0;34m:\u001B[0m\u001B[0;34m\u001B[0m\u001B[0;34m\u001B[0m\u001B[0m\n\u001B[0;32m--> 216\u001B[0;31m         \u001B[0msuper\u001B[0m\u001B[0;34m(\u001B[0m\u001B[0mLikelihoodModel\u001B[0m\u001B[0;34m,\u001B[0m \u001B[0mself\u001B[0m\u001B[0;34m)\u001B[0m\u001B[0;34m.\u001B[0m\u001B[0m__init__\u001B[0m\u001B[0;34m(\u001B[0m\u001B[0mendog\u001B[0m\u001B[0;34m,\u001B[0m \u001B[0mexog\u001B[0m\u001B[0;34m,\u001B[0m \u001B[0;34m**\u001B[0m\u001B[0mkwargs\u001B[0m\u001B[0;34m)\u001B[0m\u001B[0;34m\u001B[0m\u001B[0;34m\u001B[0m\u001B[0m\n\u001B[0m\u001B[1;32m    217\u001B[0m         \u001B[0mself\u001B[0m\u001B[0;34m.\u001B[0m\u001B[0minitialize\u001B[0m\u001B[0;34m(\u001B[0m\u001B[0;34m)\u001B[0m\u001B[0;34m\u001B[0m\u001B[0;34m\u001B[0m\u001B[0m\n\u001B[1;32m    218\u001B[0m \u001B[0;34m\u001B[0m\u001B[0m\n",
      "\u001B[0;32m/usr/local/lib/python3.7/dist-packages/statsmodels/base/model.py\u001B[0m in \u001B[0;36m__init__\u001B[0;34m(self, endog, exog, **kwargs)\u001B[0m\n\u001B[1;32m     66\u001B[0m         \u001B[0mhasconst\u001B[0m \u001B[0;34m=\u001B[0m \u001B[0mkwargs\u001B[0m\u001B[0;34m.\u001B[0m\u001B[0mpop\u001B[0m\u001B[0;34m(\u001B[0m\u001B[0;34m'hasconst'\u001B[0m\u001B[0;34m,\u001B[0m \u001B[0;32mNone\u001B[0m\u001B[0;34m)\u001B[0m\u001B[0;34m\u001B[0m\u001B[0;34m\u001B[0m\u001B[0m\n\u001B[1;32m     67\u001B[0m         self.data = self._handle_data(endog, exog, missing, hasconst,\n\u001B[0;32m---> 68\u001B[0;31m                                       **kwargs)\n\u001B[0m\u001B[1;32m     69\u001B[0m         \u001B[0mself\u001B[0m\u001B[0;34m.\u001B[0m\u001B[0mk_constant\u001B[0m \u001B[0;34m=\u001B[0m \u001B[0mself\u001B[0m\u001B[0;34m.\u001B[0m\u001B[0mdata\u001B[0m\u001B[0;34m.\u001B[0m\u001B[0mk_constant\u001B[0m\u001B[0;34m\u001B[0m\u001B[0;34m\u001B[0m\u001B[0m\n\u001B[1;32m     70\u001B[0m         \u001B[0mself\u001B[0m\u001B[0;34m.\u001B[0m\u001B[0mexog\u001B[0m \u001B[0;34m=\u001B[0m \u001B[0mself\u001B[0m\u001B[0;34m.\u001B[0m\u001B[0mdata\u001B[0m\u001B[0;34m.\u001B[0m\u001B[0mexog\u001B[0m\u001B[0;34m\u001B[0m\u001B[0;34m\u001B[0m\u001B[0m\n",
      "\u001B[0;32m/usr/local/lib/python3.7/dist-packages/statsmodels/base/model.py\u001B[0m in \u001B[0;36m_handle_data\u001B[0;34m(self, endog, exog, missing, hasconst, **kwargs)\u001B[0m\n\u001B[1;32m     89\u001B[0m \u001B[0;34m\u001B[0m\u001B[0m\n\u001B[1;32m     90\u001B[0m     \u001B[0;32mdef\u001B[0m \u001B[0m_handle_data\u001B[0m\u001B[0;34m(\u001B[0m\u001B[0mself\u001B[0m\u001B[0;34m,\u001B[0m \u001B[0mendog\u001B[0m\u001B[0;34m,\u001B[0m \u001B[0mexog\u001B[0m\u001B[0;34m,\u001B[0m \u001B[0mmissing\u001B[0m\u001B[0;34m,\u001B[0m \u001B[0mhasconst\u001B[0m\u001B[0;34m,\u001B[0m \u001B[0;34m**\u001B[0m\u001B[0mkwargs\u001B[0m\u001B[0;34m)\u001B[0m\u001B[0;34m:\u001B[0m\u001B[0;34m\u001B[0m\u001B[0;34m\u001B[0m\u001B[0m\n\u001B[0;32m---> 91\u001B[0;31m         \u001B[0mdata\u001B[0m \u001B[0;34m=\u001B[0m \u001B[0mhandle_data\u001B[0m\u001B[0;34m(\u001B[0m\u001B[0mendog\u001B[0m\u001B[0;34m,\u001B[0m \u001B[0mexog\u001B[0m\u001B[0;34m,\u001B[0m \u001B[0mmissing\u001B[0m\u001B[0;34m,\u001B[0m \u001B[0mhasconst\u001B[0m\u001B[0;34m,\u001B[0m \u001B[0;34m**\u001B[0m\u001B[0mkwargs\u001B[0m\u001B[0;34m)\u001B[0m\u001B[0;34m\u001B[0m\u001B[0;34m\u001B[0m\u001B[0m\n\u001B[0m\u001B[1;32m     92\u001B[0m         \u001B[0;31m# kwargs arrays could have changed, easier to just attach here\u001B[0m\u001B[0;34m\u001B[0m\u001B[0;34m\u001B[0m\u001B[0;34m\u001B[0m\u001B[0m\n\u001B[1;32m     93\u001B[0m         \u001B[0;32mfor\u001B[0m \u001B[0mkey\u001B[0m \u001B[0;32min\u001B[0m \u001B[0mkwargs\u001B[0m\u001B[0;34m:\u001B[0m\u001B[0;34m\u001B[0m\u001B[0;34m\u001B[0m\u001B[0m\n",
      "\u001B[0;32m/usr/local/lib/python3.7/dist-packages/statsmodels/base/data.py\u001B[0m in \u001B[0;36mhandle_data\u001B[0;34m(endog, exog, missing, hasconst, **kwargs)\u001B[0m\n\u001B[1;32m    633\u001B[0m     \u001B[0mklass\u001B[0m \u001B[0;34m=\u001B[0m \u001B[0mhandle_data_class_factory\u001B[0m\u001B[0;34m(\u001B[0m\u001B[0mendog\u001B[0m\u001B[0;34m,\u001B[0m \u001B[0mexog\u001B[0m\u001B[0;34m)\u001B[0m\u001B[0;34m\u001B[0m\u001B[0;34m\u001B[0m\u001B[0m\n\u001B[1;32m    634\u001B[0m     return klass(endog, exog=exog, missing=missing, hasconst=hasconst,\n\u001B[0;32m--> 635\u001B[0;31m                  **kwargs)\n\u001B[0m",
      "\u001B[0;32m/usr/local/lib/python3.7/dist-packages/statsmodels/base/data.py\u001B[0m in \u001B[0;36m__init__\u001B[0;34m(self, endog, exog, missing, hasconst, **kwargs)\u001B[0m\n\u001B[1;32m     78\u001B[0m         \u001B[0mself\u001B[0m\u001B[0;34m.\u001B[0m\u001B[0mconst_idx\u001B[0m \u001B[0;34m=\u001B[0m \u001B[0;32mNone\u001B[0m\u001B[0;34m\u001B[0m\u001B[0;34m\u001B[0m\u001B[0m\n\u001B[1;32m     79\u001B[0m         \u001B[0mself\u001B[0m\u001B[0;34m.\u001B[0m\u001B[0mk_constant\u001B[0m \u001B[0;34m=\u001B[0m \u001B[0;36m0\u001B[0m\u001B[0;34m\u001B[0m\u001B[0;34m\u001B[0m\u001B[0m\n\u001B[0;32m---> 80\u001B[0;31m         \u001B[0mself\u001B[0m\u001B[0;34m.\u001B[0m\u001B[0m_handle_constant\u001B[0m\u001B[0;34m(\u001B[0m\u001B[0mhasconst\u001B[0m\u001B[0;34m)\u001B[0m\u001B[0;34m\u001B[0m\u001B[0;34m\u001B[0m\u001B[0m\n\u001B[0m\u001B[1;32m     81\u001B[0m         \u001B[0mself\u001B[0m\u001B[0;34m.\u001B[0m\u001B[0m_check_integrity\u001B[0m\u001B[0;34m(\u001B[0m\u001B[0;34m)\u001B[0m\u001B[0;34m\u001B[0m\u001B[0;34m\u001B[0m\u001B[0m\n\u001B[1;32m     82\u001B[0m         \u001B[0mself\u001B[0m\u001B[0;34m.\u001B[0m\u001B[0m_cache\u001B[0m \u001B[0;34m=\u001B[0m \u001B[0;34m{\u001B[0m\u001B[0;34m}\u001B[0m\u001B[0;34m\u001B[0m\u001B[0;34m\u001B[0m\u001B[0m\n",
      "\u001B[0;32m/usr/local/lib/python3.7/dist-packages/statsmodels/base/data.py\u001B[0m in \u001B[0;36m_handle_constant\u001B[0;34m(self, hasconst)\u001B[0m\n\u001B[1;32m    122\u001B[0m             \u001B[0;31m# detect where the constant is\u001B[0m\u001B[0;34m\u001B[0m\u001B[0;34m\u001B[0m\u001B[0;34m\u001B[0m\u001B[0m\n\u001B[1;32m    123\u001B[0m             \u001B[0mcheck_implicit\u001B[0m \u001B[0;34m=\u001B[0m \u001B[0;32mFalse\u001B[0m\u001B[0;34m\u001B[0m\u001B[0;34m\u001B[0m\u001B[0m\n\u001B[0;32m--> 124\u001B[0;31m             \u001B[0mptp_\u001B[0m \u001B[0;34m=\u001B[0m \u001B[0mnp\u001B[0m\u001B[0;34m.\u001B[0m\u001B[0mptp\u001B[0m\u001B[0;34m(\u001B[0m\u001B[0mself\u001B[0m\u001B[0;34m.\u001B[0m\u001B[0mexog\u001B[0m\u001B[0;34m,\u001B[0m \u001B[0maxis\u001B[0m\u001B[0;34m=\u001B[0m\u001B[0;36m0\u001B[0m\u001B[0;34m)\u001B[0m\u001B[0;34m\u001B[0m\u001B[0;34m\u001B[0m\u001B[0m\n\u001B[0m\u001B[1;32m    125\u001B[0m             \u001B[0;32mif\u001B[0m \u001B[0;32mnot\u001B[0m \u001B[0mnp\u001B[0m\u001B[0;34m.\u001B[0m\u001B[0misfinite\u001B[0m\u001B[0;34m(\u001B[0m\u001B[0mptp_\u001B[0m\u001B[0;34m)\u001B[0m\u001B[0;34m.\u001B[0m\u001B[0mall\u001B[0m\u001B[0;34m(\u001B[0m\u001B[0;34m)\u001B[0m\u001B[0;34m:\u001B[0m\u001B[0;34m\u001B[0m\u001B[0;34m\u001B[0m\u001B[0m\n\u001B[1;32m    126\u001B[0m                 \u001B[0;32mraise\u001B[0m \u001B[0mMissingDataError\u001B[0m\u001B[0;34m(\u001B[0m\u001B[0;34m'exog contains inf or nans'\u001B[0m\u001B[0;34m)\u001B[0m\u001B[0;34m\u001B[0m\u001B[0;34m\u001B[0m\u001B[0m\n",
      "\u001B[0;32m<__array_function__ internals>\u001B[0m in \u001B[0;36mptp\u001B[0;34m(*args, **kwargs)\u001B[0m\n",
      "\u001B[0;32m/usr/local/lib/python3.7/dist-packages/numpy/core/fromnumeric.py\u001B[0m in \u001B[0;36mptp\u001B[0;34m(a, axis, out, keepdims)\u001B[0m\n\u001B[1;32m   2579\u001B[0m         \u001B[0;32melse\u001B[0m\u001B[0;34m:\u001B[0m\u001B[0;34m\u001B[0m\u001B[0;34m\u001B[0m\u001B[0m\n\u001B[1;32m   2580\u001B[0m             \u001B[0;32mreturn\u001B[0m \u001B[0mptp\u001B[0m\u001B[0;34m(\u001B[0m\u001B[0maxis\u001B[0m\u001B[0;34m=\u001B[0m\u001B[0maxis\u001B[0m\u001B[0;34m,\u001B[0m \u001B[0mout\u001B[0m\u001B[0;34m=\u001B[0m\u001B[0mout\u001B[0m\u001B[0;34m,\u001B[0m \u001B[0;34m**\u001B[0m\u001B[0mkwargs\u001B[0m\u001B[0;34m)\u001B[0m\u001B[0;34m\u001B[0m\u001B[0;34m\u001B[0m\u001B[0m\n\u001B[0;32m-> 2581\u001B[0;31m     \u001B[0;32mreturn\u001B[0m \u001B[0m_methods\u001B[0m\u001B[0;34m.\u001B[0m\u001B[0m_ptp\u001B[0m\u001B[0;34m(\u001B[0m\u001B[0ma\u001B[0m\u001B[0;34m,\u001B[0m \u001B[0maxis\u001B[0m\u001B[0;34m=\u001B[0m\u001B[0maxis\u001B[0m\u001B[0;34m,\u001B[0m \u001B[0mout\u001B[0m\u001B[0;34m=\u001B[0m\u001B[0mout\u001B[0m\u001B[0;34m,\u001B[0m \u001B[0;34m**\u001B[0m\u001B[0mkwargs\u001B[0m\u001B[0;34m)\u001B[0m\u001B[0;34m\u001B[0m\u001B[0;34m\u001B[0m\u001B[0m\n\u001B[0m\u001B[1;32m   2582\u001B[0m \u001B[0;34m\u001B[0m\u001B[0m\n\u001B[1;32m   2583\u001B[0m \u001B[0;34m\u001B[0m\u001B[0m\n",
      "\u001B[0;32m/usr/local/lib/python3.7/dist-packages/numpy/core/_methods.py\u001B[0m in \u001B[0;36m_ptp\u001B[0;34m(a, axis, out, keepdims)\u001B[0m\n\u001B[1;32m    247\u001B[0m         \u001B[0mumr_maximum\u001B[0m\u001B[0;34m(\u001B[0m\u001B[0ma\u001B[0m\u001B[0;34m,\u001B[0m \u001B[0maxis\u001B[0m\u001B[0;34m,\u001B[0m \u001B[0;32mNone\u001B[0m\u001B[0;34m,\u001B[0m \u001B[0mout\u001B[0m\u001B[0;34m,\u001B[0m \u001B[0mkeepdims\u001B[0m\u001B[0;34m)\u001B[0m\u001B[0;34m,\u001B[0m\u001B[0;34m\u001B[0m\u001B[0;34m\u001B[0m\u001B[0m\n\u001B[1;32m    248\u001B[0m         \u001B[0mumr_minimum\u001B[0m\u001B[0;34m(\u001B[0m\u001B[0ma\u001B[0m\u001B[0;34m,\u001B[0m \u001B[0maxis\u001B[0m\u001B[0;34m,\u001B[0m \u001B[0;32mNone\u001B[0m\u001B[0;34m,\u001B[0m \u001B[0;32mNone\u001B[0m\u001B[0;34m,\u001B[0m \u001B[0mkeepdims\u001B[0m\u001B[0;34m)\u001B[0m\u001B[0;34m,\u001B[0m\u001B[0;34m\u001B[0m\u001B[0;34m\u001B[0m\u001B[0m\n\u001B[0;32m--> 249\u001B[0;31m         \u001B[0mout\u001B[0m\u001B[0;34m\u001B[0m\u001B[0;34m\u001B[0m\u001B[0m\n\u001B[0m\u001B[1;32m    250\u001B[0m     )\n\u001B[1;32m    251\u001B[0m \u001B[0;34m\u001B[0m\u001B[0m\n",
      "\u001B[0;31mTypeError\u001B[0m: numpy boolean subtract, the `-` operator, is not supported, use the bitwise_xor, the `^` operator, or the logical_xor function instead."
     ]
    }
   ]
  },
  {
   "cell_type": "code",
   "metadata": {
    "pycharm": {
     "name": "#%%\n"
    },
    "id": "giRQk1yjEB9W",
    "executionInfo": {
     "status": "aborted",
     "timestamp": 1623851210136,
     "user_tz": 240,
     "elapsed": 139,
     "user": {
      "displayName": "Cedric Sirianni",
      "photoUrl": "https://lh3.googleusercontent.com/a-/AOh14GimPKVUZLbGkdQUTmeCKFG3A9gWUz9Ko-xXaxPkSA=s64",
      "userId": "10142916882577320011"
     }
    }
   },
   "source": [
    "log_reg = sm.Logit(data['won'], data['mountain']).fit()\n",
    "print(log_reg.summary())\n",
    "print(np.exp(log_reg.params))"
   ],
   "execution_count": null,
   "outputs": []
  },
  {
   "cell_type": "code",
   "metadata": {
    "pycharm": {
     "name": "#%%\n"
    },
    "id": "F7TyJjO1EB9X",
    "executionInfo": {
     "status": "aborted",
     "timestamp": 1623851210137,
     "user_tz": 240,
     "elapsed": 140,
     "user": {
      "displayName": "Cedric Sirianni",
      "photoUrl": "https://lh3.googleusercontent.com/a-/AOh14GimPKVUZLbGkdQUTmeCKFG3A9gWUz9Ko-xXaxPkSA=s64",
      "userId": "10142916882577320011"
     }
    }
   },
   "source": [
    "log_reg_hill = sm.Logit(data['won'], data['hill']).fit()\n",
    "print(log_reg_hill.summary())\n",
    "print(np.exp(log_reg_hill.params))"
   ],
   "execution_count": null,
   "outputs": []
  },
  {
   "cell_type": "code",
   "metadata": {
    "pycharm": {
     "name": "#%%\n"
    },
    "id": "F1cnGMeqEB9X",
    "executionInfo": {
     "status": "aborted",
     "timestamp": 1623851210140,
     "user_tz": 240,
     "elapsed": 143,
     "user": {
      "displayName": "Cedric Sirianni",
      "photoUrl": "https://lh3.googleusercontent.com/a-/AOh14GimPKVUZLbGkdQUTmeCKFG3A9gWUz9Ko-xXaxPkSA=s64",
      "userId": "10142916882577320011"
     }
    }
   },
   "source": [
    "log_reg_river = sm.Logit(data['won'], data['river']).fit()\n",
    "print(log_reg_river.summary())\n",
    "print(np.exp(log_reg_river.params))"
   ],
   "execution_count": null,
   "outputs": []
  },
  {
   "cell_type": "code",
   "metadata": {
    "pycharm": {
     "name": "#%%\n"
    },
    "colab": {
     "base_uri": "https://localhost:8080/",
     "height": 387
    },
    "id": "dM59l5CqEB9Y",
    "executionInfo": {
     "status": "error",
     "timestamp": 1623851238723,
     "user_tz": 240,
     "elapsed": 598,
     "user": {
      "displayName": "Cedric Sirianni",
      "photoUrl": "https://lh3.googleusercontent.com/a-/AOh14GimPKVUZLbGkdQUTmeCKFG3A9gWUz9Ko-xXaxPkSA=s64",
      "userId": "10142916882577320011"
     }
    },
    "outputId": "0f2b8c81-d442-4478-b612-14b6b39ff27c"
   },
   "source": [
    "log_reg_ocean = sm.Logit(data['won'], data['ocean']).fit()\n",
    "print(log_reg_ocean.summary())\n",
    "print(np.exp(log_reg_ocean.params))"
   ],
   "execution_count": 66,
   "outputs": [
    {
     "output_type": "error",
     "ename": "TypeError",
     "evalue": "ignored",
     "traceback": [
      "\u001B[0;31m---------------------------------------------------------------------------\u001B[0m",
      "\u001B[0;31mTypeError\u001B[0m                                 Traceback (most recent call last)",
      "\u001B[0;32m<ipython-input-66-5504129a6e5b>\u001B[0m in \u001B[0;36m<module>\u001B[0;34m()\u001B[0m\n\u001B[0;32m----> 1\u001B[0;31m \u001B[0mlog_reg_ocean\u001B[0m \u001B[0;34m=\u001B[0m \u001B[0msm\u001B[0m\u001B[0;34m.\u001B[0m\u001B[0mLogit\u001B[0m\u001B[0;34m(\u001B[0m\u001B[0mdata\u001B[0m\u001B[0;34m[\u001B[0m\u001B[0;34m'won'\u001B[0m\u001B[0;34m]\u001B[0m\u001B[0;34m,\u001B[0m \u001B[0mdata\u001B[0m\u001B[0;34m[\u001B[0m\u001B[0;34m'ocean'\u001B[0m\u001B[0;34m]\u001B[0m\u001B[0;34m)\u001B[0m\u001B[0;34m.\u001B[0m\u001B[0mfit\u001B[0m\u001B[0;34m(\u001B[0m\u001B[0;34m)\u001B[0m\u001B[0;34m\u001B[0m\u001B[0;34m\u001B[0m\u001B[0m\n\u001B[0m\u001B[1;32m      2\u001B[0m \u001B[0mprint\u001B[0m\u001B[0;34m(\u001B[0m\u001B[0mlog_reg_ocean\u001B[0m\u001B[0;34m.\u001B[0m\u001B[0msummary\u001B[0m\u001B[0;34m(\u001B[0m\u001B[0;34m)\u001B[0m\u001B[0;34m)\u001B[0m\u001B[0;34m\u001B[0m\u001B[0;34m\u001B[0m\u001B[0m\n\u001B[1;32m      3\u001B[0m \u001B[0mprint\u001B[0m\u001B[0;34m(\u001B[0m\u001B[0mnp\u001B[0m\u001B[0;34m.\u001B[0m\u001B[0mexp\u001B[0m\u001B[0;34m(\u001B[0m\u001B[0mlog_reg_ocean\u001B[0m\u001B[0;34m.\u001B[0m\u001B[0mparams\u001B[0m\u001B[0;34m)\u001B[0m\u001B[0;34m)\u001B[0m\u001B[0;34m\u001B[0m\u001B[0;34m\u001B[0m\u001B[0m\n",
      "\u001B[0;32m/usr/local/lib/python3.7/dist-packages/statsmodels/discrete/discrete_model.py\u001B[0m in \u001B[0;36m__init__\u001B[0;34m(self, endog, exog, **kwargs)\u001B[0m\n\u001B[1;32m    427\u001B[0m \u001B[0;34m\u001B[0m\u001B[0m\n\u001B[1;32m    428\u001B[0m     \u001B[0;32mdef\u001B[0m \u001B[0m__init__\u001B[0m\u001B[0;34m(\u001B[0m\u001B[0mself\u001B[0m\u001B[0;34m,\u001B[0m \u001B[0mendog\u001B[0m\u001B[0;34m,\u001B[0m \u001B[0mexog\u001B[0m\u001B[0;34m,\u001B[0m \u001B[0;34m**\u001B[0m\u001B[0mkwargs\u001B[0m\u001B[0;34m)\u001B[0m\u001B[0;34m:\u001B[0m\u001B[0;34m\u001B[0m\u001B[0;34m\u001B[0m\u001B[0m\n\u001B[0;32m--> 429\u001B[0;31m         \u001B[0msuper\u001B[0m\u001B[0;34m(\u001B[0m\u001B[0mBinaryModel\u001B[0m\u001B[0;34m,\u001B[0m \u001B[0mself\u001B[0m\u001B[0;34m)\u001B[0m\u001B[0;34m.\u001B[0m\u001B[0m__init__\u001B[0m\u001B[0;34m(\u001B[0m\u001B[0mendog\u001B[0m\u001B[0;34m,\u001B[0m \u001B[0mexog\u001B[0m\u001B[0;34m,\u001B[0m \u001B[0;34m**\u001B[0m\u001B[0mkwargs\u001B[0m\u001B[0;34m)\u001B[0m\u001B[0;34m\u001B[0m\u001B[0;34m\u001B[0m\u001B[0m\n\u001B[0m\u001B[1;32m    430\u001B[0m         if (not issubclass(self.__class__, MultinomialModel) and\n\u001B[1;32m    431\u001B[0m                 not np.all((self.endog >= 0) & (self.endog <= 1))):\n",
      "\u001B[0;32m/usr/local/lib/python3.7/dist-packages/statsmodels/discrete/discrete_model.py\u001B[0m in \u001B[0;36m__init__\u001B[0;34m(self, endog, exog, **kwargs)\u001B[0m\n\u001B[1;32m    166\u001B[0m     \"\"\"\n\u001B[1;32m    167\u001B[0m     \u001B[0;32mdef\u001B[0m \u001B[0m__init__\u001B[0m\u001B[0;34m(\u001B[0m\u001B[0mself\u001B[0m\u001B[0;34m,\u001B[0m \u001B[0mendog\u001B[0m\u001B[0;34m,\u001B[0m \u001B[0mexog\u001B[0m\u001B[0;34m,\u001B[0m \u001B[0;34m**\u001B[0m\u001B[0mkwargs\u001B[0m\u001B[0;34m)\u001B[0m\u001B[0;34m:\u001B[0m\u001B[0;34m\u001B[0m\u001B[0;34m\u001B[0m\u001B[0m\n\u001B[0;32m--> 168\u001B[0;31m         \u001B[0msuper\u001B[0m\u001B[0;34m(\u001B[0m\u001B[0mDiscreteModel\u001B[0m\u001B[0;34m,\u001B[0m \u001B[0mself\u001B[0m\u001B[0;34m)\u001B[0m\u001B[0;34m.\u001B[0m\u001B[0m__init__\u001B[0m\u001B[0;34m(\u001B[0m\u001B[0mendog\u001B[0m\u001B[0;34m,\u001B[0m \u001B[0mexog\u001B[0m\u001B[0;34m,\u001B[0m \u001B[0;34m**\u001B[0m\u001B[0mkwargs\u001B[0m\u001B[0;34m)\u001B[0m\u001B[0;34m\u001B[0m\u001B[0;34m\u001B[0m\u001B[0m\n\u001B[0m\u001B[1;32m    169\u001B[0m         \u001B[0mself\u001B[0m\u001B[0;34m.\u001B[0m\u001B[0mraise_on_perfect_prediction\u001B[0m \u001B[0;34m=\u001B[0m \u001B[0;32mTrue\u001B[0m\u001B[0;34m\u001B[0m\u001B[0;34m\u001B[0m\u001B[0m\n\u001B[1;32m    170\u001B[0m \u001B[0;34m\u001B[0m\u001B[0m\n",
      "\u001B[0;32m/usr/local/lib/python3.7/dist-packages/statsmodels/base/model.py\u001B[0m in \u001B[0;36m__init__\u001B[0;34m(self, endog, exog, **kwargs)\u001B[0m\n\u001B[1;32m    214\u001B[0m \u001B[0;34m\u001B[0m\u001B[0m\n\u001B[1;32m    215\u001B[0m     \u001B[0;32mdef\u001B[0m \u001B[0m__init__\u001B[0m\u001B[0;34m(\u001B[0m\u001B[0mself\u001B[0m\u001B[0;34m,\u001B[0m \u001B[0mendog\u001B[0m\u001B[0;34m,\u001B[0m \u001B[0mexog\u001B[0m\u001B[0;34m=\u001B[0m\u001B[0;32mNone\u001B[0m\u001B[0;34m,\u001B[0m \u001B[0;34m**\u001B[0m\u001B[0mkwargs\u001B[0m\u001B[0;34m)\u001B[0m\u001B[0;34m:\u001B[0m\u001B[0;34m\u001B[0m\u001B[0;34m\u001B[0m\u001B[0m\n\u001B[0;32m--> 216\u001B[0;31m         \u001B[0msuper\u001B[0m\u001B[0;34m(\u001B[0m\u001B[0mLikelihoodModel\u001B[0m\u001B[0;34m,\u001B[0m \u001B[0mself\u001B[0m\u001B[0;34m)\u001B[0m\u001B[0;34m.\u001B[0m\u001B[0m__init__\u001B[0m\u001B[0;34m(\u001B[0m\u001B[0mendog\u001B[0m\u001B[0;34m,\u001B[0m \u001B[0mexog\u001B[0m\u001B[0;34m,\u001B[0m \u001B[0;34m**\u001B[0m\u001B[0mkwargs\u001B[0m\u001B[0;34m)\u001B[0m\u001B[0;34m\u001B[0m\u001B[0;34m\u001B[0m\u001B[0m\n\u001B[0m\u001B[1;32m    217\u001B[0m         \u001B[0mself\u001B[0m\u001B[0;34m.\u001B[0m\u001B[0minitialize\u001B[0m\u001B[0;34m(\u001B[0m\u001B[0;34m)\u001B[0m\u001B[0;34m\u001B[0m\u001B[0;34m\u001B[0m\u001B[0m\n\u001B[1;32m    218\u001B[0m \u001B[0;34m\u001B[0m\u001B[0m\n",
      "\u001B[0;32m/usr/local/lib/python3.7/dist-packages/statsmodels/base/model.py\u001B[0m in \u001B[0;36m__init__\u001B[0;34m(self, endog, exog, **kwargs)\u001B[0m\n\u001B[1;32m     66\u001B[0m         \u001B[0mhasconst\u001B[0m \u001B[0;34m=\u001B[0m \u001B[0mkwargs\u001B[0m\u001B[0;34m.\u001B[0m\u001B[0mpop\u001B[0m\u001B[0;34m(\u001B[0m\u001B[0;34m'hasconst'\u001B[0m\u001B[0;34m,\u001B[0m \u001B[0;32mNone\u001B[0m\u001B[0;34m)\u001B[0m\u001B[0;34m\u001B[0m\u001B[0;34m\u001B[0m\u001B[0m\n\u001B[1;32m     67\u001B[0m         self.data = self._handle_data(endog, exog, missing, hasconst,\n\u001B[0;32m---> 68\u001B[0;31m                                       **kwargs)\n\u001B[0m\u001B[1;32m     69\u001B[0m         \u001B[0mself\u001B[0m\u001B[0;34m.\u001B[0m\u001B[0mk_constant\u001B[0m \u001B[0;34m=\u001B[0m \u001B[0mself\u001B[0m\u001B[0;34m.\u001B[0m\u001B[0mdata\u001B[0m\u001B[0;34m.\u001B[0m\u001B[0mk_constant\u001B[0m\u001B[0;34m\u001B[0m\u001B[0;34m\u001B[0m\u001B[0m\n\u001B[1;32m     70\u001B[0m         \u001B[0mself\u001B[0m\u001B[0;34m.\u001B[0m\u001B[0mexog\u001B[0m \u001B[0;34m=\u001B[0m \u001B[0mself\u001B[0m\u001B[0;34m.\u001B[0m\u001B[0mdata\u001B[0m\u001B[0;34m.\u001B[0m\u001B[0mexog\u001B[0m\u001B[0;34m\u001B[0m\u001B[0;34m\u001B[0m\u001B[0m\n",
      "\u001B[0;32m/usr/local/lib/python3.7/dist-packages/statsmodels/base/model.py\u001B[0m in \u001B[0;36m_handle_data\u001B[0;34m(self, endog, exog, missing, hasconst, **kwargs)\u001B[0m\n\u001B[1;32m     89\u001B[0m \u001B[0;34m\u001B[0m\u001B[0m\n\u001B[1;32m     90\u001B[0m     \u001B[0;32mdef\u001B[0m \u001B[0m_handle_data\u001B[0m\u001B[0;34m(\u001B[0m\u001B[0mself\u001B[0m\u001B[0;34m,\u001B[0m \u001B[0mendog\u001B[0m\u001B[0;34m,\u001B[0m \u001B[0mexog\u001B[0m\u001B[0;34m,\u001B[0m \u001B[0mmissing\u001B[0m\u001B[0;34m,\u001B[0m \u001B[0mhasconst\u001B[0m\u001B[0;34m,\u001B[0m \u001B[0;34m**\u001B[0m\u001B[0mkwargs\u001B[0m\u001B[0;34m)\u001B[0m\u001B[0;34m:\u001B[0m\u001B[0;34m\u001B[0m\u001B[0;34m\u001B[0m\u001B[0m\n\u001B[0;32m---> 91\u001B[0;31m         \u001B[0mdata\u001B[0m \u001B[0;34m=\u001B[0m \u001B[0mhandle_data\u001B[0m\u001B[0;34m(\u001B[0m\u001B[0mendog\u001B[0m\u001B[0;34m,\u001B[0m \u001B[0mexog\u001B[0m\u001B[0;34m,\u001B[0m \u001B[0mmissing\u001B[0m\u001B[0;34m,\u001B[0m \u001B[0mhasconst\u001B[0m\u001B[0;34m,\u001B[0m \u001B[0;34m**\u001B[0m\u001B[0mkwargs\u001B[0m\u001B[0;34m)\u001B[0m\u001B[0;34m\u001B[0m\u001B[0;34m\u001B[0m\u001B[0m\n\u001B[0m\u001B[1;32m     92\u001B[0m         \u001B[0;31m# kwargs arrays could have changed, easier to just attach here\u001B[0m\u001B[0;34m\u001B[0m\u001B[0;34m\u001B[0m\u001B[0;34m\u001B[0m\u001B[0m\n\u001B[1;32m     93\u001B[0m         \u001B[0;32mfor\u001B[0m \u001B[0mkey\u001B[0m \u001B[0;32min\u001B[0m \u001B[0mkwargs\u001B[0m\u001B[0;34m:\u001B[0m\u001B[0;34m\u001B[0m\u001B[0;34m\u001B[0m\u001B[0m\n",
      "\u001B[0;32m/usr/local/lib/python3.7/dist-packages/statsmodels/base/data.py\u001B[0m in \u001B[0;36mhandle_data\u001B[0;34m(endog, exog, missing, hasconst, **kwargs)\u001B[0m\n\u001B[1;32m    633\u001B[0m     \u001B[0mklass\u001B[0m \u001B[0;34m=\u001B[0m \u001B[0mhandle_data_class_factory\u001B[0m\u001B[0;34m(\u001B[0m\u001B[0mendog\u001B[0m\u001B[0;34m,\u001B[0m \u001B[0mexog\u001B[0m\u001B[0;34m)\u001B[0m\u001B[0;34m\u001B[0m\u001B[0;34m\u001B[0m\u001B[0m\n\u001B[1;32m    634\u001B[0m     return klass(endog, exog=exog, missing=missing, hasconst=hasconst,\n\u001B[0;32m--> 635\u001B[0;31m                  **kwargs)\n\u001B[0m",
      "\u001B[0;32m/usr/local/lib/python3.7/dist-packages/statsmodels/base/data.py\u001B[0m in \u001B[0;36m__init__\u001B[0;34m(self, endog, exog, missing, hasconst, **kwargs)\u001B[0m\n\u001B[1;32m     78\u001B[0m         \u001B[0mself\u001B[0m\u001B[0;34m.\u001B[0m\u001B[0mconst_idx\u001B[0m \u001B[0;34m=\u001B[0m \u001B[0;32mNone\u001B[0m\u001B[0;34m\u001B[0m\u001B[0;34m\u001B[0m\u001B[0m\n\u001B[1;32m     79\u001B[0m         \u001B[0mself\u001B[0m\u001B[0;34m.\u001B[0m\u001B[0mk_constant\u001B[0m \u001B[0;34m=\u001B[0m \u001B[0;36m0\u001B[0m\u001B[0;34m\u001B[0m\u001B[0;34m\u001B[0m\u001B[0m\n\u001B[0;32m---> 80\u001B[0;31m         \u001B[0mself\u001B[0m\u001B[0;34m.\u001B[0m\u001B[0m_handle_constant\u001B[0m\u001B[0;34m(\u001B[0m\u001B[0mhasconst\u001B[0m\u001B[0;34m)\u001B[0m\u001B[0;34m\u001B[0m\u001B[0;34m\u001B[0m\u001B[0m\n\u001B[0m\u001B[1;32m     81\u001B[0m         \u001B[0mself\u001B[0m\u001B[0;34m.\u001B[0m\u001B[0m_check_integrity\u001B[0m\u001B[0;34m(\u001B[0m\u001B[0;34m)\u001B[0m\u001B[0;34m\u001B[0m\u001B[0;34m\u001B[0m\u001B[0m\n\u001B[1;32m     82\u001B[0m         \u001B[0mself\u001B[0m\u001B[0;34m.\u001B[0m\u001B[0m_cache\u001B[0m \u001B[0;34m=\u001B[0m \u001B[0;34m{\u001B[0m\u001B[0;34m}\u001B[0m\u001B[0;34m\u001B[0m\u001B[0;34m\u001B[0m\u001B[0m\n",
      "\u001B[0;32m/usr/local/lib/python3.7/dist-packages/statsmodels/base/data.py\u001B[0m in \u001B[0;36m_handle_constant\u001B[0;34m(self, hasconst)\u001B[0m\n\u001B[1;32m    122\u001B[0m             \u001B[0;31m# detect where the constant is\u001B[0m\u001B[0;34m\u001B[0m\u001B[0;34m\u001B[0m\u001B[0;34m\u001B[0m\u001B[0m\n\u001B[1;32m    123\u001B[0m             \u001B[0mcheck_implicit\u001B[0m \u001B[0;34m=\u001B[0m \u001B[0;32mFalse\u001B[0m\u001B[0;34m\u001B[0m\u001B[0;34m\u001B[0m\u001B[0m\n\u001B[0;32m--> 124\u001B[0;31m             \u001B[0mptp_\u001B[0m \u001B[0;34m=\u001B[0m \u001B[0mnp\u001B[0m\u001B[0;34m.\u001B[0m\u001B[0mptp\u001B[0m\u001B[0;34m(\u001B[0m\u001B[0mself\u001B[0m\u001B[0;34m.\u001B[0m\u001B[0mexog\u001B[0m\u001B[0;34m,\u001B[0m \u001B[0maxis\u001B[0m\u001B[0;34m=\u001B[0m\u001B[0;36m0\u001B[0m\u001B[0;34m)\u001B[0m\u001B[0;34m\u001B[0m\u001B[0;34m\u001B[0m\u001B[0m\n\u001B[0m\u001B[1;32m    125\u001B[0m             \u001B[0;32mif\u001B[0m \u001B[0;32mnot\u001B[0m \u001B[0mnp\u001B[0m\u001B[0;34m.\u001B[0m\u001B[0misfinite\u001B[0m\u001B[0;34m(\u001B[0m\u001B[0mptp_\u001B[0m\u001B[0;34m)\u001B[0m\u001B[0;34m.\u001B[0m\u001B[0mall\u001B[0m\u001B[0;34m(\u001B[0m\u001B[0;34m)\u001B[0m\u001B[0;34m:\u001B[0m\u001B[0;34m\u001B[0m\u001B[0;34m\u001B[0m\u001B[0m\n\u001B[1;32m    126\u001B[0m                 \u001B[0;32mraise\u001B[0m \u001B[0mMissingDataError\u001B[0m\u001B[0;34m(\u001B[0m\u001B[0;34m'exog contains inf or nans'\u001B[0m\u001B[0;34m)\u001B[0m\u001B[0;34m\u001B[0m\u001B[0;34m\u001B[0m\u001B[0m\n",
      "\u001B[0;32m<__array_function__ internals>\u001B[0m in \u001B[0;36mptp\u001B[0;34m(*args, **kwargs)\u001B[0m\n",
      "\u001B[0;32m/usr/local/lib/python3.7/dist-packages/numpy/core/fromnumeric.py\u001B[0m in \u001B[0;36mptp\u001B[0;34m(a, axis, out, keepdims)\u001B[0m\n\u001B[1;32m   2579\u001B[0m         \u001B[0;32melse\u001B[0m\u001B[0;34m:\u001B[0m\u001B[0;34m\u001B[0m\u001B[0;34m\u001B[0m\u001B[0m\n\u001B[1;32m   2580\u001B[0m             \u001B[0;32mreturn\u001B[0m \u001B[0mptp\u001B[0m\u001B[0;34m(\u001B[0m\u001B[0maxis\u001B[0m\u001B[0;34m=\u001B[0m\u001B[0maxis\u001B[0m\u001B[0;34m,\u001B[0m \u001B[0mout\u001B[0m\u001B[0;34m=\u001B[0m\u001B[0mout\u001B[0m\u001B[0;34m,\u001B[0m \u001B[0;34m**\u001B[0m\u001B[0mkwargs\u001B[0m\u001B[0;34m)\u001B[0m\u001B[0;34m\u001B[0m\u001B[0;34m\u001B[0m\u001B[0m\n\u001B[0;32m-> 2581\u001B[0;31m     \u001B[0;32mreturn\u001B[0m \u001B[0m_methods\u001B[0m\u001B[0;34m.\u001B[0m\u001B[0m_ptp\u001B[0m\u001B[0;34m(\u001B[0m\u001B[0ma\u001B[0m\u001B[0;34m,\u001B[0m \u001B[0maxis\u001B[0m\u001B[0;34m=\u001B[0m\u001B[0maxis\u001B[0m\u001B[0;34m,\u001B[0m \u001B[0mout\u001B[0m\u001B[0;34m=\u001B[0m\u001B[0mout\u001B[0m\u001B[0;34m,\u001B[0m \u001B[0;34m**\u001B[0m\u001B[0mkwargs\u001B[0m\u001B[0;34m)\u001B[0m\u001B[0;34m\u001B[0m\u001B[0;34m\u001B[0m\u001B[0m\n\u001B[0m\u001B[1;32m   2582\u001B[0m \u001B[0;34m\u001B[0m\u001B[0m\n\u001B[1;32m   2583\u001B[0m \u001B[0;34m\u001B[0m\u001B[0m\n",
      "\u001B[0;32m/usr/local/lib/python3.7/dist-packages/numpy/core/_methods.py\u001B[0m in \u001B[0;36m_ptp\u001B[0;34m(a, axis, out, keepdims)\u001B[0m\n\u001B[1;32m    247\u001B[0m         \u001B[0mumr_maximum\u001B[0m\u001B[0;34m(\u001B[0m\u001B[0ma\u001B[0m\u001B[0;34m,\u001B[0m \u001B[0maxis\u001B[0m\u001B[0;34m,\u001B[0m \u001B[0;32mNone\u001B[0m\u001B[0;34m,\u001B[0m \u001B[0mout\u001B[0m\u001B[0;34m,\u001B[0m \u001B[0mkeepdims\u001B[0m\u001B[0;34m)\u001B[0m\u001B[0;34m,\u001B[0m\u001B[0;34m\u001B[0m\u001B[0;34m\u001B[0m\u001B[0m\n\u001B[1;32m    248\u001B[0m         \u001B[0mumr_minimum\u001B[0m\u001B[0;34m(\u001B[0m\u001B[0ma\u001B[0m\u001B[0;34m,\u001B[0m \u001B[0maxis\u001B[0m\u001B[0;34m,\u001B[0m \u001B[0;32mNone\u001B[0m\u001B[0;34m,\u001B[0m \u001B[0;32mNone\u001B[0m\u001B[0;34m,\u001B[0m \u001B[0mkeepdims\u001B[0m\u001B[0;34m)\u001B[0m\u001B[0;34m,\u001B[0m\u001B[0;34m\u001B[0m\u001B[0;34m\u001B[0m\u001B[0m\n\u001B[0;32m--> 249\u001B[0;31m         \u001B[0mout\u001B[0m\u001B[0;34m\u001B[0m\u001B[0;34m\u001B[0m\u001B[0m\n\u001B[0m\u001B[1;32m    250\u001B[0m     )\n\u001B[1;32m    251\u001B[0m \u001B[0;34m\u001B[0m\u001B[0m\n",
      "\u001B[0;31mTypeError\u001B[0m: numpy boolean subtract, the `-` operator, is not supported, use the bitwise_xor, the `^` operator, or the logical_xor function instead."
     ]
    }
   ]
  },
  {
   "cell_type": "code",
   "metadata": {
    "pycharm": {
     "name": "#%%\n"
    },
    "colab": {
     "base_uri": "https://localhost:8080/",
     "height": 584
    },
    "id": "b6CiSIpMEB9Y",
    "executionInfo": {
     "status": "ok",
     "timestamp": 1623851232279,
     "user_tz": 240,
     "elapsed": 252,
     "user": {
      "displayName": "Cedric Sirianni",
      "photoUrl": "https://lh3.googleusercontent.com/a-/AOh14GimPKVUZLbGkdQUTmeCKFG3A9gWUz9Ko-xXaxPkSA=s64",
      "userId": "10142916882577320011"
     }
    },
    "outputId": "fccbfc74-c66f-4d64-fcf9-cc6e5fc51213"
   },
   "source": [
    "log_reg_turns = sm.Logit(data['won'], data['score']).fit()\n",
    "print(log_reg_turns.summary())\n",
    "print(np.exp(log_reg_turns.params))\n",
    "plt.scatter(data['score'], data['won'])\n",
    "\n",
    "plt.show()"
   ],
   "execution_count": 65,
   "outputs": [
    {
     "output_type": "stream",
     "text": [
      "Optimization terminated successfully.\n",
      "         Current function value: 0.611936\n",
      "         Iterations 4\n",
      "                           Logit Regression Results                           \n",
      "==============================================================================\n",
      "Dep. Variable:                    won   No. Observations:                   72\n",
      "Model:                          Logit   Df Residuals:                       71\n",
      "Method:                           MLE   Df Model:                            0\n",
      "Date:                Wed, 16 Jun 2021   Pseudo R-squ.:                 0.08427\n",
      "Time:                        13:44:46   Log-Likelihood:                -44.059\n",
      "converged:                       True   LL-Null:                       -48.114\n",
      "Covariance Type:            nonrobust   LLR p-value:                       nan\n",
      "==============================================================================\n",
      "                 coef    std err          z      P>|z|      [0.025      0.975]\n",
      "------------------------------------------------------------------------------\n",
      "score          0.0006      0.000      3.198      0.001       0.000       0.001\n",
      "==============================================================================\n",
      "score    1.000571\n",
      "dtype: float64\n"
     ],
     "name": "stdout"
    },
    {
     "output_type": "display_data",
     "data": {
      "image/png": "[encoded data removed]",
      "text/plain": [
       "<Figure size 432x288 with 1 Axes>"
      ]
     },
     "metadata": {
      "tags": [],
      "needs_background": "light"
     }
    }
   ]
  },
  {
   "cell_type": "code",
   "metadata": {
    "pycharm": {
     "name": "#%%\n"
    },
    "colab": {
     "base_uri": "https://localhost:8080/",
     "height": 265
    },
    "id": "MFEi9TCSEB9Y",
    "executionInfo": {
     "status": "ok",
     "timestamp": 1623851227858,
     "user_tz": 240,
     "elapsed": 327,
     "user": {
      "displayName": "Cedric Sirianni",
      "photoUrl": "https://lh3.googleusercontent.com/a-/AOh14GimPKVUZLbGkdQUTmeCKFG3A9gWUz9Ko-xXaxPkSA=s64",
      "userId": "10142916882577320011"
     }
    },
    "outputId": "f56c29d6-c393-452e-cf50-84d64cd9df2b"
   },
   "source": [
    "from sklearn.linear_model import LogisticRegression\n",
    "from scipy.special import expit\n",
    "X = data['score'].values.reshape(-1,1)\n",
    "Y = data['won'].values.reshape(-1,1)\n",
    "clf = LogisticRegression()\n",
    "clf.fit(X, Y)\n",
    "plt.figure(1, figsize=(4, 3))\n",
    "plt.clf()\n",
    "plt.scatter(X, Y, color='black', zorder=20)\n",
    "X_test = np.linspace(0, 3500, 1000)\n",
    "\n",
    "loss = expit(X_test * clf.coef_ + clf.intercept_).ravel()\n",
    "plt.plot(X_test, loss, color='red', linewidth=3)\n",
    "plt.show()"
   ],
   "execution_count": 64,
   "outputs": [
    {
     "output_type": "stream",
     "text": [
      "/usr/local/lib/python3.7/dist-packages/sklearn/utils/validation.py:760: DataConversionWarning: A column-vector y was passed when a 1d array was expected. Please change the shape of y to (n_samples, ), for example using ravel().\n",
      "  y = column_or_1d(y, warn=True)\n"
     ],
     "name": "stderr"
    },
    {
     "output_type": "display_data",
     "data": {
      "image/png": "[encoded data removed]",
      "text/plain": [
       "<Figure size 288x216 with 1 Axes>"
      ]
     },
     "metadata": {
      "tags": [],
      "needs_background": "light"
     }
    }
   ]
  },
  {
   "cell_type": "code",
   "metadata": {
    "pycharm": {
     "name": "#%%\n"
    },
    "colab": {
     "base_uri": "https://localhost:8080/",
     "height": 229
    },
    "id": "a6ncXA57EB9Y",
    "executionInfo": {
     "status": "error",
     "timestamp": 1623851223462,
     "user_tz": 240,
     "elapsed": 130,
     "user": {
      "displayName": "Cedric Sirianni",
      "photoUrl": "https://lh3.googleusercontent.com/a-/AOh14GimPKVUZLbGkdQUTmeCKFG3A9gWUz9Ko-xXaxPkSA=s64",
      "userId": "10142916882577320011"
     }
    },
    "outputId": "4509ad31-d3ef-43b7-f7cf-9043459fb5d3"
   },
   "source": [
    "X = data['score'].values.reshape(-1,1)\n",
    "Y = data['won'].values.reshape(-1,1)\n",
    "\n",
    "LogR = LogisticRegression()\n",
    "LogR.fit(X, Y)\n",
    "# plt.scatter(X,Y)\n",
    "sns.regplot(x='score', y='won', data=data, logistic=True, color='green', ci=None)\n",
    "plt.ylim(-.1,1.1)\n",
    "plt.yticks([0,1])\n",
    "plt.title(\"Score vs. Mountain Distribution\")\n",
    "# plt.savefig(\"../Media/Graphs/score_vs_mountain_logistic\")"
   ],
   "execution_count": 63,
   "outputs": [
    {
     "output_type": "error",
     "ename": "NameError",
     "evalue": "ignored",
     "traceback": [
      "\u001B[0;31m---------------------------------------------------------------------------\u001B[0m",
      "\u001B[0;31mNameError\u001B[0m                                 Traceback (most recent call last)",
      "\u001B[0;32m<ipython-input-63-63a9bb23eca2>\u001B[0m in \u001B[0;36m<module>\u001B[0;34m()\u001B[0m\n\u001B[1;32m      2\u001B[0m \u001B[0mY\u001B[0m \u001B[0;34m=\u001B[0m \u001B[0mdata\u001B[0m\u001B[0;34m[\u001B[0m\u001B[0;34m'won'\u001B[0m\u001B[0;34m]\u001B[0m\u001B[0;34m.\u001B[0m\u001B[0mvalues\u001B[0m\u001B[0;34m.\u001B[0m\u001B[0mreshape\u001B[0m\u001B[0;34m(\u001B[0m\u001B[0;34m-\u001B[0m\u001B[0;36m1\u001B[0m\u001B[0;34m,\u001B[0m\u001B[0;36m1\u001B[0m\u001B[0;34m)\u001B[0m\u001B[0;34m\u001B[0m\u001B[0;34m\u001B[0m\u001B[0m\n\u001B[1;32m      3\u001B[0m \u001B[0;34m\u001B[0m\u001B[0m\n\u001B[0;32m----> 4\u001B[0;31m \u001B[0mLogR\u001B[0m \u001B[0;34m=\u001B[0m \u001B[0mLogisticRegression\u001B[0m\u001B[0;34m(\u001B[0m\u001B[0;34m)\u001B[0m\u001B[0;34m\u001B[0m\u001B[0;34m\u001B[0m\u001B[0m\n\u001B[0m\u001B[1;32m      5\u001B[0m \u001B[0mLogR\u001B[0m\u001B[0;34m.\u001B[0m\u001B[0mfit\u001B[0m\u001B[0;34m(\u001B[0m\u001B[0mX\u001B[0m\u001B[0;34m,\u001B[0m \u001B[0mY\u001B[0m\u001B[0;34m)\u001B[0m\u001B[0;34m\u001B[0m\u001B[0;34m\u001B[0m\u001B[0m\n\u001B[1;32m      6\u001B[0m \u001B[0;31m# plt.scatter(X,Y)\u001B[0m\u001B[0;34m\u001B[0m\u001B[0;34m\u001B[0m\u001B[0;34m\u001B[0m\u001B[0m\n",
      "\u001B[0;31mNameError\u001B[0m: name 'LogisticRegression' is not defined"
     ]
    }
   ]
  },
  {
   "cell_type": "code",
   "metadata": {
    "pycharm": {
     "name": "#%%\n"
    },
    "colab": {
     "base_uri": "https://localhost:8080/",
     "height": 312
    },
    "id": "EXmhlCT0EB9Z",
    "executionInfo": {
     "status": "ok",
     "timestamp": 1623851220623,
     "user_tz": 240,
     "elapsed": 440,
     "user": {
      "displayName": "Cedric Sirianni",
      "photoUrl": "https://lh3.googleusercontent.com/a-/AOh14GimPKVUZLbGkdQUTmeCKFG3A9gWUz9Ko-xXaxPkSA=s64",
      "userId": "10142916882577320011"
     }
    },
    "outputId": "654ed1d3-6d13-475a-80c9-4a1aac7500d7"
   },
   "source": [
    "sns.regplot(x='score', y='won', data=data, color='green', ci=None)\n",
    "plt.ylim(-.1,1.1)\n",
    "plt.yticks([0,1])\n",
    "plt.title(\"Score vs. Mountain Distribution\")\n",
    "# plt.savefig(\"../Media/Graphs/score_vs_mountain_linear\")"
   ],
   "execution_count": 62,
   "outputs": [
    {
     "output_type": "execute_result",
     "data": {
      "text/plain": [
       "Text(0.5, 1.0, 'Score vs. Mountain Distribution')"
      ]
     },
     "metadata": {
      "tags": []
     },
     "execution_count": 62
    },
    {
     "output_type": "display_data",
     "data": {
      "image/png": "[encoded data removed]",
      "text/plain": [
       "<Figure size 432x288 with 1 Axes>"
      ]
     },
     "metadata": {
      "tags": [],
      "needs_background": "light"
     }
    }
   ]
  },
  {
   "cell_type": "code",
   "metadata": {
    "pycharm": {
     "name": "#%%\n"
    },
    "colab": {
     "base_uri": "https://localhost:8080/",
     "height": 225
    },
    "id": "NXt-qzUJEB9Z",
    "executionInfo": {
     "status": "ok",
     "timestamp": 1623851216722,
     "user_tz": 240,
     "elapsed": 452,
     "user": {
      "displayName": "Cedric Sirianni",
      "photoUrl": "https://lh3.googleusercontent.com/a-/AOh14GimPKVUZLbGkdQUTmeCKFG3A9gWUz9Ko-xXaxPkSA=s64",
      "userId": "10142916882577320011"
     }
    },
    "outputId": "999257fc-bff2-40b5-bb5e-6280aad80548"
   },
   "source": [
    "# https://scikit-learn.org/stable/auto_examples/linear_model/plot_logistic.html\n",
    "import numpy as np\n",
    "import matplotlib.pyplot as plt\n",
    "\n",
    "from sklearn import linear_model\n",
    "from scipy.special import expit\n",
    "\n",
    "# General a toy dataset:s it's just a straight line with some Gaussian noise:\n",
    "xmin, xmax = -5, 5\n",
    "n_samples = 100\n",
    "np.random.seed(0)\n",
    "X = np.random.normal(size=n_samples)\n",
    "y = (X > 0).astype(float)\n",
    "X[X > 0] *= 4\n",
    "X += .3 * np.random.normal(size=n_samples)\n",
    "\n",
    "X = X[:, np.newaxis]\n",
    "\n",
    "# Fit the classifier\n",
    "clf = linear_model.LogisticRegression(C=1e5)\n",
    "clf.fit(X, y)\n",
    "\n",
    "# and plot the result\n",
    "plt.figure(1, figsize=(4, 3))\n",
    "plt.clf()\n",
    "plt.scatter(X.ravel(), y, color='black', zorder=20)\n",
    "X_test = np.linspace(-5, 10, 300)\n",
    "\n",
    "loss = expit(X_test * clf.coef_ + clf.intercept_).ravel()\n",
    "plt.plot(X_test, loss, color='red', linewidth=3)\n",
    "\n",
    "ols = linear_model.LinearRegression()\n",
    "ols.fit(X, y)\n",
    "plt.plot(X_test, ols.coef_ * X_test + ols.intercept_, linewidth=1)\n",
    "plt.axhline(.5, color='.5')\n",
    "\n",
    "plt.ylabel('y')\n",
    "plt.xlabel('X')\n",
    "plt.xticks(range(-5, 10))\n",
    "plt.yticks([0, 0.5, 1])\n",
    "plt.ylim(-.25, 1.25)\n",
    "plt.xlim(-4, 10)\n",
    "plt.legend(('Logistic Regression Model', 'Linear Regression Model'),\n",
    "           loc=\"lower right\", fontsize='small')\n",
    "plt.tight_layout()\n",
    "plt.show()\n"
   ],
   "execution_count": 61,
   "outputs": [
    {
     "output_type": "display_data",
     "data": {
      "image/png": "[encoded data removed]",
      "text/plain": [
       "<Figure size 288x216 with 1 Axes>"
      ]
     },
     "metadata": {
      "tags": [],
      "needs_background": "light"
     }
    }
   ]
  }
 ]
}